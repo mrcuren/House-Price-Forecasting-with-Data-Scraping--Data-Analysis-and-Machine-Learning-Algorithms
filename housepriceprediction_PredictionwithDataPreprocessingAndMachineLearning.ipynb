{
 "cells": [
  {
   "cell_type": "code",
   "execution_count": 2,
   "id": "146cf611",
   "metadata": {},
   "outputs": [],
   "source": [
    "import numpy as np\n",
    "import pandas as pd \n",
    "import seaborn as sns\n",
    "import matplotlib.pyplot as plt \n"
   ]
  },
  {
   "cell_type": "markdown",
   "id": "a3ede4e0",
   "metadata": {},
   "source": [
    "# Data Analysis and Visualisation"
   ]
  },
  {
   "cell_type": "code",
   "execution_count": 3,
   "id": "1d5e540a",
   "metadata": {
    "scrolled": true
   },
   "outputs": [],
   "source": [
    "data= pd.read_csv(\"home.csv\")"
   ]
  },
  {
   "cell_type": "code",
   "execution_count": 4,
   "id": "a50dd240",
   "metadata": {},
   "outputs": [
    {
     "data": {
      "text/html": [
       "<div>\n",
       "<style scoped>\n",
       "    .dataframe tbody tr th:only-of-type {\n",
       "        vertical-align: middle;\n",
       "    }\n",
       "\n",
       "    .dataframe tbody tr th {\n",
       "        vertical-align: top;\n",
       "    }\n",
       "\n",
       "    .dataframe thead th {\n",
       "        text-align: right;\n",
       "    }\n",
       "</style>\n",
       "<table border=\"1\" class=\"dataframe\">\n",
       "  <thead>\n",
       "    <tr style=\"text-align: right;\">\n",
       "      <th></th>\n",
       "      <th>province</th>\n",
       "      <th>housing_type</th>\n",
       "      <th>age</th>\n",
       "      <th>floor</th>\n",
       "      <th>m_2</th>\n",
       "      <th>room_number</th>\n",
       "      <th>price</th>\n",
       "    </tr>\n",
       "  </thead>\n",
       "  <tbody>\n",
       "    <tr>\n",
       "      <th>0</th>\n",
       "      <td>Adalar</td>\n",
       "      <td>Daire</td>\n",
       "      <td>33</td>\n",
       "      <td>3</td>\n",
       "      <td>140</td>\n",
       "      <td>3+1</td>\n",
       "      <td>4800000</td>\n",
       "    </tr>\n",
       "    <tr>\n",
       "      <th>1</th>\n",
       "      <td>Adalar</td>\n",
       "      <td>Daire</td>\n",
       "      <td>31</td>\n",
       "      <td>2</td>\n",
       "      <td>138</td>\n",
       "      <td>4+1</td>\n",
       "      <td>8500000</td>\n",
       "    </tr>\n",
       "    <tr>\n",
       "      <th>2</th>\n",
       "      <td>Adalar</td>\n",
       "      <td>Daire</td>\n",
       "      <td>36</td>\n",
       "      <td>1</td>\n",
       "      <td>59</td>\n",
       "      <td>1+1</td>\n",
       "      <td>2475000</td>\n",
       "    </tr>\n",
       "    <tr>\n",
       "      <th>3</th>\n",
       "      <td>Adalar</td>\n",
       "      <td>Daire</td>\n",
       "      <td>35</td>\n",
       "      <td>3</td>\n",
       "      <td>227</td>\n",
       "      <td>6+1</td>\n",
       "      <td>8500000</td>\n",
       "    </tr>\n",
       "    <tr>\n",
       "      <th>4</th>\n",
       "      <td>Adalar</td>\n",
       "      <td>Daire</td>\n",
       "      <td>40</td>\n",
       "      <td>2</td>\n",
       "      <td>150</td>\n",
       "      <td>3+2</td>\n",
       "      <td>5900000</td>\n",
       "    </tr>\n",
       "  </tbody>\n",
       "</table>\n",
       "</div>"
      ],
      "text/plain": [
       "  province housing_type age  floor  m_2 room_number    price\n",
       "0   Adalar        Daire  33      3  140         3+1  4800000\n",
       "1   Adalar        Daire  31      2  138         4+1  8500000\n",
       "2   Adalar        Daire  36      1   59         1+1  2475000\n",
       "3   Adalar        Daire  35      3  227         6+1  8500000\n",
       "4   Adalar        Daire  40      2  150         3+2  5900000"
      ]
     },
     "execution_count": 4,
     "metadata": {},
     "output_type": "execute_result"
    }
   ],
   "source": [
    "data.head()"
   ]
  },
  {
   "cell_type": "code",
   "execution_count": 5,
   "id": "9595e787",
   "metadata": {
    "scrolled": true
   },
   "outputs": [
    {
     "data": {
      "text/html": [
       "<div>\n",
       "<style scoped>\n",
       "    .dataframe tbody tr th:only-of-type {\n",
       "        vertical-align: middle;\n",
       "    }\n",
       "\n",
       "    .dataframe tbody tr th {\n",
       "        vertical-align: top;\n",
       "    }\n",
       "\n",
       "    .dataframe thead th {\n",
       "        text-align: right;\n",
       "    }\n",
       "</style>\n",
       "<table border=\"1\" class=\"dataframe\">\n",
       "  <thead>\n",
       "    <tr style=\"text-align: right;\">\n",
       "      <th></th>\n",
       "      <th>province</th>\n",
       "      <th>housing_type</th>\n",
       "      <th>age</th>\n",
       "      <th>floor</th>\n",
       "      <th>m_2</th>\n",
       "      <th>room_number</th>\n",
       "      <th>price</th>\n",
       "    </tr>\n",
       "  </thead>\n",
       "  <tbody>\n",
       "    <tr>\n",
       "      <th>29000</th>\n",
       "      <td>Zeytinburnu</td>\n",
       "      <td>Daire</td>\n",
       "      <td>28</td>\n",
       "      <td>4</td>\n",
       "      <td>240</td>\n",
       "      <td>5+1</td>\n",
       "      <td>3100000</td>\n",
       "    </tr>\n",
       "    <tr>\n",
       "      <th>29001</th>\n",
       "      <td>Zeytinburnu</td>\n",
       "      <td>Daire</td>\n",
       "      <td>7</td>\n",
       "      <td>2</td>\n",
       "      <td>161</td>\n",
       "      <td>3+1</td>\n",
       "      <td>9500000</td>\n",
       "    </tr>\n",
       "    <tr>\n",
       "      <th>29002</th>\n",
       "      <td>Zeytinburnu</td>\n",
       "      <td>Daire</td>\n",
       "      <td>22</td>\n",
       "      <td>1</td>\n",
       "      <td>150</td>\n",
       "      <td>4+1</td>\n",
       "      <td>3250000</td>\n",
       "    </tr>\n",
       "    <tr>\n",
       "      <th>29003</th>\n",
       "      <td>Zeytinburnu</td>\n",
       "      <td>Daire</td>\n",
       "      <td>5</td>\n",
       "      <td>2</td>\n",
       "      <td>70</td>\n",
       "      <td>1+1</td>\n",
       "      <td>2000000</td>\n",
       "    </tr>\n",
       "    <tr>\n",
       "      <th>29004</th>\n",
       "      <td>Zeytinburnu</td>\n",
       "      <td>Daire</td>\n",
       "      <td>25</td>\n",
       "      <td>1</td>\n",
       "      <td>140</td>\n",
       "      <td>3+1</td>\n",
       "      <td>2450000</td>\n",
       "    </tr>\n",
       "  </tbody>\n",
       "</table>\n",
       "</div>"
      ],
      "text/plain": [
       "          province housing_type age  floor  m_2 room_number    price\n",
       "29000  Zeytinburnu        Daire  28      4  240         5+1  3100000\n",
       "29001  Zeytinburnu        Daire   7      2  161         3+1  9500000\n",
       "29002  Zeytinburnu        Daire  22      1  150         4+1  3250000\n",
       "29003  Zeytinburnu        Daire   5      2   70         1+1  2000000\n",
       "29004  Zeytinburnu        Daire  25      1  140         3+1  2450000"
      ]
     },
     "execution_count": 5,
     "metadata": {},
     "output_type": "execute_result"
    }
   ],
   "source": [
    "data.tail()"
   ]
  },
  {
   "cell_type": "code",
   "execution_count": 6,
   "id": "23bf684b",
   "metadata": {},
   "outputs": [
    {
     "name": "stdout",
     "output_type": "stream",
     "text": [
      "<class 'pandas.core.frame.DataFrame'>\n",
      "RangeIndex: 29005 entries, 0 to 29004\n",
      "Data columns (total 7 columns):\n",
      " #   Column        Non-Null Count  Dtype \n",
      "---  ------        --------------  ----- \n",
      " 0   province      29005 non-null  object\n",
      " 1   housing_type  29005 non-null  object\n",
      " 2   age           29005 non-null  object\n",
      " 3   floor         29005 non-null  int64 \n",
      " 4   m_2           29005 non-null  int64 \n",
      " 5   room_number   29005 non-null  object\n",
      " 6   price         29005 non-null  int64 \n",
      "dtypes: int64(3), object(4)\n",
      "memory usage: 1.5+ MB\n"
     ]
    }
   ],
   "source": [
    "data.info()"
   ]
  },
  {
   "cell_type": "code",
   "execution_count": 7,
   "id": "02d4bb8d",
   "metadata": {},
   "outputs": [
    {
     "data": {
      "text/plain": [
       "province        0\n",
       "housing_type    0\n",
       "age             0\n",
       "floor           0\n",
       "m_2             0\n",
       "room_number     0\n",
       "price           0\n",
       "dtype: int64"
      ]
     },
     "execution_count": 7,
     "metadata": {},
     "output_type": "execute_result"
    }
   ],
   "source": [
    "data.isnull().sum()"
   ]
  },
  {
   "cell_type": "code",
   "execution_count": 8,
   "id": "b80ab545",
   "metadata": {},
   "outputs": [
    {
     "data": {
      "text/plain": [
       "False"
      ]
     },
     "execution_count": 8,
     "metadata": {},
     "output_type": "execute_result"
    }
   ],
   "source": [
    "data.isnull().sum().any()"
   ]
  },
  {
   "cell_type": "markdown",
   "id": "2b85dc28",
   "metadata": {},
   "source": [
    "## Apartment Age"
   ]
  },
  {
   "cell_type": "code",
   "execution_count": 9,
   "id": "3b5b37be",
   "metadata": {},
   "outputs": [
    {
     "data": {
      "text/plain": [
       "array(['33', '31', '36', '35', '40', '44', '30', '27', '20', '39', '38',\n",
       "       '24', '28', '25', '26', '50', 'Sıfır Bina', '37', '32', '1', '10',\n",
       "       '41', '16', '21', '17', '4', '12', '8', '2', '7', '5', '6', '3',\n",
       "       '15', '29', '9', '11', '13', '14', '19', '22', '23', '48', '18',\n",
       "       '42', '34', '45', '43', '55', '52', '51', '60', '90', '47', '46',\n",
       "       '56', '201', '510', '70', '110', '96', '100', '62', '150', '123',\n",
       "       '154', '80', '49', '75', '65', '130', '120', '117', '132', '200',\n",
       "       '68', '101', '53', '54', '183', '372', '58', '85', '105', '115'],\n",
       "      dtype=object)"
      ]
     },
     "execution_count": 9,
     "metadata": {},
     "output_type": "execute_result"
    }
   ],
   "source": [
    "data[\"age\"].unique()"
   ]
  },
  {
   "cell_type": "code",
   "execution_count": 10,
   "id": "8bfcceb5",
   "metadata": {},
   "outputs": [],
   "source": [
    "# We've converted the age zero buildings to zero.\n",
    "data.loc[data[\"age\"]==\"Sıfır Bina\", 'age'] = 0"
   ]
  },
  {
   "cell_type": "code",
   "execution_count": 11,
   "id": "907a5ef9",
   "metadata": {
    "scrolled": false
   },
   "outputs": [
    {
     "data": {
      "text/plain": [
       "0"
      ]
     },
     "execution_count": 11,
     "metadata": {},
     "output_type": "execute_result"
    }
   ],
   "source": [
    "len(data[data[\"age\"]==\"Sıfır Bina\"])"
   ]
  },
  {
   "cell_type": "code",
   "execution_count": 12,
   "id": "1ffac4c2",
   "metadata": {},
   "outputs": [],
   "source": [
    "data['age'] = data['age'].astype(int)"
   ]
  },
  {
   "cell_type": "code",
   "execution_count": 13,
   "id": "714ea8db",
   "metadata": {},
   "outputs": [
    {
     "data": {
      "text/plain": [
       "12.7882778831236"
      ]
     },
     "execution_count": 13,
     "metadata": {},
     "output_type": "execute_result"
    }
   ],
   "source": [
    "data[\"age\"].mean()"
   ]
  },
  {
   "cell_type": "code",
   "execution_count": 14,
   "id": "be7ba712",
   "metadata": {},
   "outputs": [
    {
     "data": {
      "text/plain": [
       "0      6398\n",
       "5      2542\n",
       "4      2370\n",
       "30     1459\n",
       "3      1128\n",
       "       ... \n",
       "154       1\n",
       "150       1\n",
       "96        1\n",
       "510       1\n",
       "115       1\n",
       "Name: age, Length: 85, dtype: int64"
      ]
     },
     "execution_count": 14,
     "metadata": {},
     "output_type": "execute_result"
    }
   ],
   "source": [
    "data[\"age\"].value_counts()"
   ]
  },
  {
   "cell_type": "code",
   "execution_count": 15,
   "id": "e197b036",
   "metadata": {
    "scrolled": false
   },
   "outputs": [
    {
     "data": {
      "text/plain": [
       "Text(0.5, 1.0, 'Building Age')"
      ]
     },
     "execution_count": 15,
     "metadata": {},
     "output_type": "execute_result"
    },
    {
     "data": {
      "image/png": "[encoded data removed]",
      "text/plain": [
       "<Figure size 360x360 with 1 Axes>"
      ]
     },
     "metadata": {},
     "output_type": "display_data"
    }
   ],
   "source": [
    "fig = plt.figure(figsize=(5, 5))\n",
    "ax = plt.gca()\n",
    "\n",
    "ax.pie(data[\"age\"].value_counts()[:20], labels=data['age'].value_counts().index[:20],autopct='%1.1f%%',shadow=True,radius=2,startangle=90)\n",
    "ax.legend(data[\"age\"].unique())\n",
    "ax.set_title(\"Building Age\")"
   ]
  },
  {
   "cell_type": "code",
   "execution_count": 16,
   "id": "68fcea65",
   "metadata": {},
   "outputs": [
    {
     "data": {
      "text/html": [
       "<div>\n",
       "<style scoped>\n",
       "    .dataframe tbody tr th:only-of-type {\n",
       "        vertical-align: middle;\n",
       "    }\n",
       "\n",
       "    .dataframe tbody tr th {\n",
       "        vertical-align: top;\n",
       "    }\n",
       "\n",
       "    .dataframe thead th {\n",
       "        text-align: right;\n",
       "    }\n",
       "</style>\n",
       "<table border=\"1\" class=\"dataframe\">\n",
       "  <thead>\n",
       "    <tr style=\"text-align: right;\">\n",
       "      <th></th>\n",
       "      <th>province</th>\n",
       "      <th>housing_type</th>\n",
       "      <th>age</th>\n",
       "      <th>floor</th>\n",
       "      <th>m_2</th>\n",
       "      <th>room_number</th>\n",
       "      <th>price</th>\n",
       "    </tr>\n",
       "  </thead>\n",
       "  <tbody>\n",
       "    <tr>\n",
       "      <th>26</th>\n",
       "      <td>Adalar</td>\n",
       "      <td>Daire</td>\n",
       "      <td>0</td>\n",
       "      <td>3</td>\n",
       "      <td>230</td>\n",
       "      <td>4+1</td>\n",
       "      <td>10000000</td>\n",
       "    </tr>\n",
       "    <tr>\n",
       "      <th>76</th>\n",
       "      <td>Arnavutköy</td>\n",
       "      <td>Daire</td>\n",
       "      <td>0</td>\n",
       "      <td>4</td>\n",
       "      <td>160</td>\n",
       "      <td>3+2</td>\n",
       "      <td>2565000</td>\n",
       "    </tr>\n",
       "    <tr>\n",
       "      <th>78</th>\n",
       "      <td>Arnavutköy</td>\n",
       "      <td>Daire</td>\n",
       "      <td>0</td>\n",
       "      <td>4</td>\n",
       "      <td>185</td>\n",
       "      <td>4+2</td>\n",
       "      <td>3000000</td>\n",
       "    </tr>\n",
       "    <tr>\n",
       "      <th>84</th>\n",
       "      <td>Arnavutköy</td>\n",
       "      <td>Daire</td>\n",
       "      <td>0</td>\n",
       "      <td>3</td>\n",
       "      <td>260</td>\n",
       "      <td>6+2</td>\n",
       "      <td>2950000</td>\n",
       "    </tr>\n",
       "    <tr>\n",
       "      <th>85</th>\n",
       "      <td>Arnavutköy</td>\n",
       "      <td>Daire</td>\n",
       "      <td>0</td>\n",
       "      <td>5</td>\n",
       "      <td>185</td>\n",
       "      <td>4+1</td>\n",
       "      <td>2990000</td>\n",
       "    </tr>\n",
       "    <tr>\n",
       "      <th>...</th>\n",
       "      <td>...</td>\n",
       "      <td>...</td>\n",
       "      <td>...</td>\n",
       "      <td>...</td>\n",
       "      <td>...</td>\n",
       "      <td>...</td>\n",
       "      <td>...</td>\n",
       "    </tr>\n",
       "    <tr>\n",
       "      <th>28982</th>\n",
       "      <td>Zeytinburnu</td>\n",
       "      <td>Daire</td>\n",
       "      <td>0</td>\n",
       "      <td>5</td>\n",
       "      <td>140</td>\n",
       "      <td>3+1</td>\n",
       "      <td>6850000</td>\n",
       "    </tr>\n",
       "    <tr>\n",
       "      <th>28984</th>\n",
       "      <td>Zeytinburnu</td>\n",
       "      <td>Daire</td>\n",
       "      <td>0</td>\n",
       "      <td>7</td>\n",
       "      <td>140</td>\n",
       "      <td>3+1</td>\n",
       "      <td>6850000</td>\n",
       "    </tr>\n",
       "    <tr>\n",
       "      <th>28985</th>\n",
       "      <td>Zeytinburnu</td>\n",
       "      <td>Daire</td>\n",
       "      <td>0</td>\n",
       "      <td>6</td>\n",
       "      <td>112</td>\n",
       "      <td>2+1</td>\n",
       "      <td>4000000</td>\n",
       "    </tr>\n",
       "    <tr>\n",
       "      <th>28986</th>\n",
       "      <td>Zeytinburnu</td>\n",
       "      <td>Daire</td>\n",
       "      <td>0</td>\n",
       "      <td>6</td>\n",
       "      <td>112</td>\n",
       "      <td>2+1</td>\n",
       "      <td>5000000</td>\n",
       "    </tr>\n",
       "    <tr>\n",
       "      <th>28988</th>\n",
       "      <td>Zeytinburnu</td>\n",
       "      <td>Daire</td>\n",
       "      <td>0</td>\n",
       "      <td>7</td>\n",
       "      <td>140</td>\n",
       "      <td>3+1</td>\n",
       "      <td>5250000</td>\n",
       "    </tr>\n",
       "  </tbody>\n",
       "</table>\n",
       "<p>6398 rows × 7 columns</p>\n",
       "</div>"
      ],
      "text/plain": [
       "          province housing_type  age  floor  m_2 room_number     price\n",
       "26          Adalar        Daire    0      3  230         4+1  10000000\n",
       "76      Arnavutköy        Daire    0      4  160         3+2   2565000\n",
       "78      Arnavutköy        Daire    0      4  185         4+2   3000000\n",
       "84      Arnavutköy        Daire    0      3  260         6+2   2950000\n",
       "85      Arnavutköy        Daire    0      5  185         4+1   2990000\n",
       "...            ...          ...  ...    ...  ...         ...       ...\n",
       "28982  Zeytinburnu        Daire    0      5  140         3+1   6850000\n",
       "28984  Zeytinburnu        Daire    0      7  140         3+1   6850000\n",
       "28985  Zeytinburnu        Daire    0      6  112         2+1   4000000\n",
       "28986  Zeytinburnu        Daire    0      6  112         2+1   5000000\n",
       "28988  Zeytinburnu        Daire    0      7  140         3+1   5250000\n",
       "\n",
       "[6398 rows x 7 columns]"
      ]
     },
     "execution_count": 16,
     "metadata": {},
     "output_type": "execute_result"
    }
   ],
   "source": [
    "data[data[\"age\"]==0]"
   ]
  },
  {
   "cell_type": "code",
   "execution_count": 17,
   "id": "9b29c1c3",
   "metadata": {},
   "outputs": [
    {
     "data": {
      "text/plain": [
       "3000000    109\n",
       "3500000    109\n",
       "4500000     97\n",
       "2500000     92\n",
       "3250000     82\n",
       "2850000     78\n",
       "5500000     76\n",
       "7500000     75\n",
       "2250000     72\n",
       "6500000     71\n",
       "Name: price, dtype: int64"
      ]
     },
     "execution_count": 17,
     "metadata": {},
     "output_type": "execute_result"
    }
   ],
   "source": [
    "data[data[\"age\"]==0][\"price\"].value_counts()[:10]"
   ]
  },
  {
   "cell_type": "code",
   "execution_count": 18,
   "id": "1bbbc78a",
   "metadata": {},
   "outputs": [
    {
     "data": {
      "text/plain": [
       "8899547.500312598"
      ]
     },
     "execution_count": 18,
     "metadata": {},
     "output_type": "execute_result"
    }
   ],
   "source": [
    "data[data[\"age\"]==0][\"price\"].mean()"
   ]
  },
  {
   "cell_type": "code",
   "execution_count": 19,
   "id": "deb13873",
   "metadata": {},
   "outputs": [
    {
     "data": {
      "text/plain": [
       "8400000000"
      ]
     },
     "execution_count": 19,
     "metadata": {},
     "output_type": "execute_result"
    }
   ],
   "source": [
    "data[data[\"age\"]==0][\"price\"].max()"
   ]
  },
  {
   "cell_type": "code",
   "execution_count": 20,
   "id": "23d7a14b",
   "metadata": {
    "scrolled": true
   },
   "outputs": [
    {
     "data": {
      "text/plain": [
       "Kadıköy          1013\n",
       "Beylikdüzü        824\n",
       "Maltepe           709\n",
       "Esenyurt          434\n",
       "Küçükçekmece      376\n",
       "Bahçelievler      292\n",
       "Üsküdar           221\n",
       "Çekmeköy          215\n",
       "Kartal            209\n",
       "Sancaktepe        205\n",
       "Kağıthane         179\n",
       "Eyüpsultan        177\n",
       "Bakırköy          165\n",
       "Büyükçekmece      145\n",
       "Avcılar           131\n",
       "Başakşehir        113\n",
       "Zeytinburnu       102\n",
       "Ümraniye           91\n",
       "Beşiktaş           85\n",
       "Pendik             76\n",
       "Sultangazi         73\n",
       "Gaziosmanpasa      61\n",
       "Sultanbeyli        59\n",
       "Silivri            58\n",
       "Tuzla              55\n",
       "Sarıyer            53\n",
       "Arnavutköy         51\n",
       "Şişli              45\n",
       "Bağcılar           42\n",
       "Beyoğlu            27\n",
       "Esenler            23\n",
       "Bayrampaşa         23\n",
       "Fatih              22\n",
       "Ataşehir           16\n",
       "Güngören           14\n",
       "Şile                7\n",
       "Beykoz              6\n",
       "Adalar              1\n",
       "Name: province, dtype: int64"
      ]
     },
     "execution_count": 20,
     "metadata": {},
     "output_type": "execute_result"
    }
   ],
   "source": [
    "data[data[\"age\"]==0][\"province\"].value_counts()"
   ]
  },
  {
   "cell_type": "code",
   "execution_count": 21,
   "id": "1aaa4c2e",
   "metadata": {
    "scrolled": true
   },
   "outputs": [
    {
     "data": {
      "text/plain": [
       "Kadıköy          358\n",
       "Fatih            154\n",
       "Maltepe          146\n",
       "Şişli            144\n",
       "Beşiktaş          90\n",
       "Bahçelievler      80\n",
       "Güngören          54\n",
       "Küçükçekmece      49\n",
       "Üsküdar           45\n",
       "Bakırköy          45\n",
       "Zeytinburnu       43\n",
       "Avcılar           36\n",
       "Büyükçekmece      30\n",
       "Sarıyer           28\n",
       "Kağıthane         23\n",
       "Beyoğlu           22\n",
       "Kartal            21\n",
       "Ataşehir          19\n",
       "Adalar            11\n",
       "Esenler           11\n",
       "Bağcılar           8\n",
       "Eyüpsultan         7\n",
       "Beykoz             6\n",
       "Ümraniye           6\n",
       "Pendik             5\n",
       "Bayrampaşa         4\n",
       "Beylikdüzü         3\n",
       "Silivri            3\n",
       "Gaziosmanpasa      2\n",
       "Esenyurt           2\n",
       "Tuzla              2\n",
       "Arnavutköy         1\n",
       "Şile               1\n",
       "Name: province, dtype: int64"
      ]
     },
     "execution_count": 21,
     "metadata": {},
     "output_type": "execute_result"
    }
   ],
   "source": [
    "data[data[\"age\"]==30][\"province\"].value_counts()"
   ]
  },
  {
   "cell_type": "code",
   "execution_count": 22,
   "id": "f2636923",
   "metadata": {},
   "outputs": [
    {
     "data": {
      "text/plain": [
       "Kadıköy          797\n",
       "Fatih            429\n",
       "Beşiktaş         398\n",
       "Şişli            365\n",
       "Beyoğlu          300\n",
       "Bahçelievler     238\n",
       "Bakırköy         228\n",
       "Üsküdar          179\n",
       "Maltepe          133\n",
       "Güngören          88\n",
       "Sarıyer           57\n",
       "Küçükçekmece      52\n",
       "Adalar            42\n",
       "Kartal            32\n",
       "Büyükçekmece      24\n",
       "Pendik            22\n",
       "Kağıthane         20\n",
       "Avcılar           20\n",
       "Zeytinburnu       18\n",
       "Ataşehir          17\n",
       "Eyüpsultan        13\n",
       "Gaziosmanpasa     10\n",
       "Esenler            7\n",
       "Bağcılar           7\n",
       "Silivri            5\n",
       "Bayrampaşa         5\n",
       "Beykoz             4\n",
       "Ümraniye           4\n",
       "Beylikdüzü         3\n",
       "Şile               2\n",
       "Name: province, dtype: int64"
      ]
     },
     "execution_count": 22,
     "metadata": {},
     "output_type": "execute_result"
    }
   ],
   "source": [
    "data[data[\"age\"]>30][\"province\"].value_counts()"
   ]
  },
  {
   "cell_type": "code",
   "execution_count": 23,
   "id": "75c7be8b",
   "metadata": {
    "scrolled": true
   },
   "outputs": [
    {
     "data": {
      "text/plain": [
       "Kadıköy          2988\n",
       "Esenyurt         1639\n",
       "Beylikdüzü       1617\n",
       "Maltepe          1603\n",
       "Küçükçekmece      966\n",
       "Kağıthane         767\n",
       "Eyüpsultan        663\n",
       "Sarıyer           564\n",
       "Bahçelievler      544\n",
       "Sancaktepe        532\n",
       "Çekmeköy          531\n",
       "Kartal            531\n",
       "Başakşehir        478\n",
       "Üsküdar           406\n",
       "Bakırköy          397\n",
       "Büyükçekmece      389\n",
       "Ümraniye          361\n",
       "Şişli             325\n",
       "Avcılar           306\n",
       "Pendik            300\n",
       "Ataşehir          274\n",
       "Zeytinburnu       268\n",
       "Beşiktaş          263\n",
       "Bağcılar          206\n",
       "Tuzla             182\n",
       "Gaziosmanpasa     171\n",
       "Silivri           139\n",
       "Sultangazi        132\n",
       "Beyoğlu           116\n",
       "Sultanbeyli       116\n",
       "Arnavutköy         93\n",
       "Bayrampaşa         63\n",
       "Esenler            58\n",
       "Fatih              49\n",
       "Güngören           46\n",
       "Beykoz             38\n",
       "Şile               21\n",
       "Çatalca             5\n",
       "Adalar              5\n",
       "Name: province, dtype: int64"
      ]
     },
     "execution_count": 23,
     "metadata": {},
     "output_type": "execute_result"
    }
   ],
   "source": [
    "data[data[\"age\"]<13][\"province\"].value_counts()"
   ]
  },
  {
   "cell_type": "markdown",
   "id": "a21b6067",
   "metadata": {},
   "source": [
    "## Number of Rooms"
   ]
  },
  {
   "cell_type": "code",
   "execution_count": 24,
   "id": "87f78a81",
   "metadata": {},
   "outputs": [
    {
     "data": {
      "text/plain": [
       "array(['3+1', '4+1', '1+1', '6+1', '3+2', '2+1', '4+2', '6+3', '5+2',\n",
       "       '7+3', '6+2', '5+3', 'Stüdyo', '2+2', '5+1', '3+3', '4+3', '7+1',\n",
       "       '2+11', '7+2', '1+3', '4+0', '1+2', '4+4', '8+2', '9+1', '41+1',\n",
       "       '2+0', '3+11', '12+5', '3+190', '3+12', '8+1', '9+3', '15+17',\n",
       "       '14+4', '8+3', '21+1', '2+3', '10+1', '10+0', '6+4', '30+1', '4+5',\n",
       "       '3+0', '6+80', '12+1', '15+1', '31+1', '10+2', '8+5', '6+12',\n",
       "       '2+4'], dtype=object)"
      ]
     },
     "execution_count": 24,
     "metadata": {},
     "output_type": "execute_result"
    }
   ],
   "source": [
    "data[\"room_number\"].unique()\n"
   ]
  },
  {
   "cell_type": "code",
   "execution_count": 25,
   "id": "209fdcbd",
   "metadata": {
    "scrolled": true
   },
   "outputs": [
    {
     "data": {
      "text/plain": [
       "3+1       11093\n",
       "2+1       10127\n",
       "4+1        2716\n",
       "1+1        1825\n",
       "4+2         982\n",
       "3+2         683\n",
       "5+2         568\n",
       "5+1         438\n",
       "Stüdyo      145\n",
       "6+2         132\n",
       "2+2         117\n",
       "6+1          69\n",
       "7+2          22\n",
       "7+1          14\n",
       "3+3          11\n",
       "21+1          4\n",
       "4+4           4\n",
       "7+3           3\n",
       "4+3           3\n",
       "2+11          3\n",
       "2+3           2\n",
       "3+0           2\n",
       "8+3           2\n",
       "9+3           2\n",
       "3+12          2\n",
       "3+11          2\n",
       "4+0           2\n",
       "9+1           2\n",
       "8+2           2\n",
       "1+2           2\n",
       "1+3           2\n",
       "5+3           2\n",
       "6+3           2\n",
       "6+12          1\n",
       "8+5           1\n",
       "10+2          1\n",
       "31+1          1\n",
       "15+1          1\n",
       "12+1          1\n",
       "30+1          1\n",
       "6+80          1\n",
       "4+5           1\n",
       "41+1          1\n",
       "6+4           1\n",
       "10+0          1\n",
       "10+1          1\n",
       "14+4          1\n",
       "15+17         1\n",
       "8+1           1\n",
       "3+190         1\n",
       "12+5          1\n",
       "2+0           1\n",
       "2+4           1\n",
       "Name: room_number, dtype: int64"
      ]
     },
     "execution_count": 25,
     "metadata": {},
     "output_type": "execute_result"
    }
   ],
   "source": [
    "data[\"room_number\"].value_counts()"
   ]
  },
  {
   "cell_type": "code",
   "execution_count": 26,
   "id": "f20ec8aa",
   "metadata": {
    "scrolled": true
   },
   "outputs": [
    {
     "data": {
      "text/plain": [
       "Text(0.5, 1.0, 'Room of Number')"
      ]
     },
     "execution_count": 26,
     "metadata": {},
     "output_type": "execute_result"
    },
    {
     "data": {
      "image/png": "[encoded data removed]",
      "text/plain": [
       "<Figure size 360x360 with 1 Axes>"
      ]
     },
     "metadata": {},
     "output_type": "display_data"
    }
   ],
   "source": [
    "fig = plt.figure(figsize=(5, 5))\n",
    "ax = plt.gca()\n",
    "\n",
    "ax.pie(data[\"room_number\"].value_counts()[:7], labels=data[\"room_number\"].value_counts().index[:7],autopct='%1.1f%%',shadow=True, startangle=90,radius=2)\n",
    "ax.legend(data[\"room_number\"].unique())\n",
    "ax.set_title(\"Room of Number\")"
   ]
  },
  {
   "cell_type": "code",
   "execution_count": 27,
   "id": "b35daeab",
   "metadata": {
    "scrolled": true
   },
   "outputs": [
    {
     "data": {
      "text/plain": [
       "Kadıköy          2837\n",
       "Maltepe          1085\n",
       "Beylikdüzü        726\n",
       "Bahçelievler      477\n",
       "Esenyurt          422\n",
       "Beşiktaş          395\n",
       "Küçükçekmece      370\n",
       "Kartal            360\n",
       "Şişli             353\n",
       "Bakırköy          311\n",
       "Sarıyer           288\n",
       "Üsküdar           276\n",
       "Fatih             238\n",
       "Büyükçekmece      231\n",
       "Kağıthane         227\n",
       "Ataşehir          223\n",
       "Çekmeköy          215\n",
       "Ümraniye          210\n",
       "Başakşehir        207\n",
       "Sancaktepe        198\n",
       "Eyüpsultan        187\n",
       "Pendik            166\n",
       "Avcılar           157\n",
       "Zeytinburnu       146\n",
       "Beyoğlu           118\n",
       "Güngören          108\n",
       "Tuzla              85\n",
       "Gaziosmanpasa      81\n",
       "Silivri            80\n",
       "Bağcılar           72\n",
       "Beykoz             56\n",
       "Esenler            36\n",
       "Adalar             34\n",
       "Sultangazi         31\n",
       "Sultanbeyli        27\n",
       "Arnavutköy         24\n",
       "Bayrampaşa         22\n",
       "Şile               10\n",
       "Çatalca             4\n",
       "Name: province, dtype: int64"
      ]
     },
     "execution_count": 27,
     "metadata": {},
     "output_type": "execute_result"
    }
   ],
   "source": [
    "data[data[\"room_number\"]==\"3+1\"][\"province\"].value_counts()"
   ]
  },
  {
   "cell_type": "code",
   "execution_count": 28,
   "id": "2f7c52be",
   "metadata": {},
   "outputs": [
    {
     "data": {
      "text/plain": [
       "7226991.545749572"
      ]
     },
     "execution_count": 28,
     "metadata": {},
     "output_type": "execute_result"
    }
   ],
   "source": [
    "data[data[\"room_number\"]==\"3+1\"][\"price\"].mean()"
   ]
  },
  {
   "cell_type": "code",
   "execution_count": 29,
   "id": "87a5c6bd",
   "metadata": {
    "scrolled": true
   },
   "outputs": [
    {
     "data": {
      "text/plain": [
       "17706922.37671233"
      ]
     },
     "execution_count": 29,
     "metadata": {},
     "output_type": "execute_result"
    }
   ],
   "source": [
    "data[data[\"room_number\"]==\"5+1\"][\"price\"].mean()"
   ]
  },
  {
   "cell_type": "code",
   "execution_count": 30,
   "id": "a504062b",
   "metadata": {},
   "outputs": [
    {
     "data": {
      "text/plain": [
       "<AxesSubplot:xlabel='room_number'>"
      ]
     },
     "execution_count": 30,
     "metadata": {},
     "output_type": "execute_result"
    },
    {
     "data": {
      "image/png": "[encoded data removed]",
      "text/plain": [
       "<Figure size 432x288 with 1 Axes>"
      ]
     },
     "metadata": {
      "needs_background": "light"
     },
     "output_type": "display_data"
    }
   ],
   "source": [
    "data.pivot_table(index = 'room_number',values = 'price',aggfunc = 'mean').plot(kind='line')"
   ]
  },
  {
   "cell_type": "markdown",
   "id": "2aafaca8",
   "metadata": {},
   "source": [
    "## District"
   ]
  },
  {
   "cell_type": "code",
   "execution_count": 31,
   "id": "bdd5ffbf",
   "metadata": {
    "scrolled": true
   },
   "outputs": [
    {
     "data": {
      "text/html": [
       "<div>\n",
       "<style scoped>\n",
       "    .dataframe tbody tr th:only-of-type {\n",
       "        vertical-align: middle;\n",
       "    }\n",
       "\n",
       "    .dataframe tbody tr th {\n",
       "        vertical-align: top;\n",
       "    }\n",
       "\n",
       "    .dataframe thead th {\n",
       "        text-align: right;\n",
       "    }\n",
       "</style>\n",
       "<table border=\"1\" class=\"dataframe\">\n",
       "  <thead>\n",
       "    <tr style=\"text-align: right;\">\n",
       "      <th></th>\n",
       "      <th>0</th>\n",
       "    </tr>\n",
       "  </thead>\n",
       "  <tbody>\n",
       "    <tr>\n",
       "      <th>0</th>\n",
       "      <td>Adalar</td>\n",
       "    </tr>\n",
       "    <tr>\n",
       "      <th>1</th>\n",
       "      <td>Arnavutköy</td>\n",
       "    </tr>\n",
       "    <tr>\n",
       "      <th>2</th>\n",
       "      <td>Ataşehir</td>\n",
       "    </tr>\n",
       "    <tr>\n",
       "      <th>3</th>\n",
       "      <td>Avcılar</td>\n",
       "    </tr>\n",
       "    <tr>\n",
       "      <th>4</th>\n",
       "      <td>Bağcılar</td>\n",
       "    </tr>\n",
       "    <tr>\n",
       "      <th>5</th>\n",
       "      <td>Bahçelievler</td>\n",
       "    </tr>\n",
       "    <tr>\n",
       "      <th>6</th>\n",
       "      <td>Bakırköy</td>\n",
       "    </tr>\n",
       "    <tr>\n",
       "      <th>7</th>\n",
       "      <td>Başakşehir</td>\n",
       "    </tr>\n",
       "    <tr>\n",
       "      <th>8</th>\n",
       "      <td>Bayrampaşa</td>\n",
       "    </tr>\n",
       "    <tr>\n",
       "      <th>9</th>\n",
       "      <td>Beşiktaş</td>\n",
       "    </tr>\n",
       "    <tr>\n",
       "      <th>10</th>\n",
       "      <td>Beykoz</td>\n",
       "    </tr>\n",
       "    <tr>\n",
       "      <th>11</th>\n",
       "      <td>Beylikdüzü</td>\n",
       "    </tr>\n",
       "    <tr>\n",
       "      <th>12</th>\n",
       "      <td>Beyoğlu</td>\n",
       "    </tr>\n",
       "    <tr>\n",
       "      <th>13</th>\n",
       "      <td>Büyükçekmece</td>\n",
       "    </tr>\n",
       "    <tr>\n",
       "      <th>14</th>\n",
       "      <td>Çatalca</td>\n",
       "    </tr>\n",
       "    <tr>\n",
       "      <th>15</th>\n",
       "      <td>Çekmeköy</td>\n",
       "    </tr>\n",
       "    <tr>\n",
       "      <th>16</th>\n",
       "      <td>Esenler</td>\n",
       "    </tr>\n",
       "    <tr>\n",
       "      <th>17</th>\n",
       "      <td>Esenyurt</td>\n",
       "    </tr>\n",
       "    <tr>\n",
       "      <th>18</th>\n",
       "      <td>Eyüpsultan</td>\n",
       "    </tr>\n",
       "    <tr>\n",
       "      <th>19</th>\n",
       "      <td>Fatih</td>\n",
       "    </tr>\n",
       "    <tr>\n",
       "      <th>20</th>\n",
       "      <td>Gaziosmanpasa</td>\n",
       "    </tr>\n",
       "    <tr>\n",
       "      <th>21</th>\n",
       "      <td>Güngören</td>\n",
       "    </tr>\n",
       "    <tr>\n",
       "      <th>22</th>\n",
       "      <td>Kadıköy</td>\n",
       "    </tr>\n",
       "    <tr>\n",
       "      <th>23</th>\n",
       "      <td>Kağıthane</td>\n",
       "    </tr>\n",
       "    <tr>\n",
       "      <th>24</th>\n",
       "      <td>Kartal</td>\n",
       "    </tr>\n",
       "    <tr>\n",
       "      <th>25</th>\n",
       "      <td>Küçükçekmece</td>\n",
       "    </tr>\n",
       "    <tr>\n",
       "      <th>26</th>\n",
       "      <td>Maltepe</td>\n",
       "    </tr>\n",
       "    <tr>\n",
       "      <th>27</th>\n",
       "      <td>Pendik</td>\n",
       "    </tr>\n",
       "    <tr>\n",
       "      <th>28</th>\n",
       "      <td>Sancaktepe</td>\n",
       "    </tr>\n",
       "    <tr>\n",
       "      <th>29</th>\n",
       "      <td>Sarıyer</td>\n",
       "    </tr>\n",
       "    <tr>\n",
       "      <th>30</th>\n",
       "      <td>Silivri</td>\n",
       "    </tr>\n",
       "    <tr>\n",
       "      <th>31</th>\n",
       "      <td>Sultanbeyli</td>\n",
       "    </tr>\n",
       "    <tr>\n",
       "      <th>32</th>\n",
       "      <td>Sultangazi</td>\n",
       "    </tr>\n",
       "    <tr>\n",
       "      <th>33</th>\n",
       "      <td>Şile</td>\n",
       "    </tr>\n",
       "    <tr>\n",
       "      <th>34</th>\n",
       "      <td>Şişli</td>\n",
       "    </tr>\n",
       "    <tr>\n",
       "      <th>35</th>\n",
       "      <td>Tuzla</td>\n",
       "    </tr>\n",
       "    <tr>\n",
       "      <th>36</th>\n",
       "      <td>Ümraniye</td>\n",
       "    </tr>\n",
       "    <tr>\n",
       "      <th>37</th>\n",
       "      <td>Üsküdar</td>\n",
       "    </tr>\n",
       "    <tr>\n",
       "      <th>38</th>\n",
       "      <td>Zeytinburnu</td>\n",
       "    </tr>\n",
       "  </tbody>\n",
       "</table>\n",
       "</div>"
      ],
      "text/plain": [
       "                0\n",
       "0          Adalar\n",
       "1      Arnavutköy\n",
       "2        Ataşehir\n",
       "3         Avcılar\n",
       "4        Bağcılar\n",
       "5    Bahçelievler\n",
       "6        Bakırköy\n",
       "7      Başakşehir\n",
       "8      Bayrampaşa\n",
       "9        Beşiktaş\n",
       "10         Beykoz\n",
       "11     Beylikdüzü\n",
       "12        Beyoğlu\n",
       "13   Büyükçekmece\n",
       "14        Çatalca\n",
       "15       Çekmeköy\n",
       "16        Esenler\n",
       "17       Esenyurt\n",
       "18     Eyüpsultan\n",
       "19          Fatih\n",
       "20  Gaziosmanpasa\n",
       "21       Güngören\n",
       "22        Kadıköy\n",
       "23      Kağıthane\n",
       "24         Kartal\n",
       "25   Küçükçekmece\n",
       "26        Maltepe\n",
       "27         Pendik\n",
       "28     Sancaktepe\n",
       "29        Sarıyer\n",
       "30        Silivri\n",
       "31    Sultanbeyli\n",
       "32     Sultangazi\n",
       "33           Şile\n",
       "34          Şişli\n",
       "35          Tuzla\n",
       "36       Ümraniye\n",
       "37        Üsküdar\n",
       "38    Zeytinburnu"
      ]
     },
     "execution_count": 31,
     "metadata": {},
     "output_type": "execute_result"
    }
   ],
   "source": [
    "pd.DataFrame(data[\"province\"].unique())"
   ]
  },
  {
   "cell_type": "code",
   "execution_count": 32,
   "id": "f86baa00",
   "metadata": {},
   "outputs": [
    {
     "data": {
      "text/plain": [
       "39"
      ]
     },
     "execution_count": 32,
     "metadata": {},
     "output_type": "execute_result"
    }
   ],
   "source": [
    "len(data[\"province\"].unique())"
   ]
  },
  {
   "cell_type": "code",
   "execution_count": 33,
   "id": "056aa84a",
   "metadata": {
    "scrolled": true
   },
   "outputs": [
    {
     "data": {
      "text/plain": [
       "Kadıköy          5424\n",
       "Maltepe          2400\n",
       "Beylikdüzü       1920\n",
       "Esenyurt         1752\n",
       "Küçükçekmece     1320\n",
       "Şişli            1104\n",
       "Bahçelievler     1080\n",
       "Beşiktaş         1008\n",
       "Kağıthane        1008\n",
       "Bakırköy          888\n",
       "Eyüpsultan        816\n",
       "Sarıyer           816\n",
       "Kartal            768\n",
       "Üsküdar           768\n",
       "Fatih             720\n",
       "Başakşehir        600\n",
       "Büyükçekmece      600\n",
       "Çekmeköy          576\n",
       "Sancaktepe        552\n",
       "Zeytinburnu       528\n",
       "Ümraniye          504\n",
       "Beyoğlu           504\n",
       "Avcılar           480\n",
       "Ataşehir          462\n",
       "Pendik            432\n",
       "Bağcılar          273\n",
       "Gaziosmanpasa     264\n",
       "Güngören          240\n",
       "Tuzla             216\n",
       "Silivri           192\n",
       "Sultangazi        168\n",
       "Sultanbeyli       120\n",
       "Arnavutköy        101\n",
       "Bayrampaşa         97\n",
       "Beykoz             96\n",
       "Esenler            96\n",
       "Adalar             76\n",
       "Şile               28\n",
       "Çatalca             8\n",
       "Name: province, dtype: int64"
      ]
     },
     "execution_count": 33,
     "metadata": {},
     "output_type": "execute_result"
    }
   ],
   "source": [
    "data[\"province\"].value_counts()"
   ]
  },
  {
   "cell_type": "code",
   "execution_count": 34,
   "id": "0055d1fd",
   "metadata": {},
   "outputs": [
    {
     "data": {
      "text/plain": [
       "<AxesSubplot:>"
      ]
     },
     "execution_count": 34,
     "metadata": {},
     "output_type": "execute_result"
    },
    {
     "data": {
      "image/png": "[encoded data removed]",
      "text/plain": [
       "<Figure size 432x288 with 1 Axes>"
      ]
     },
     "metadata": {
      "needs_background": "light"
     },
     "output_type": "display_data"
    }
   ],
   "source": [
    "data[\"province\"].value_counts().plot.barh()"
   ]
  },
  {
   "cell_type": "code",
   "execution_count": 35,
   "id": "3423e941",
   "metadata": {},
   "outputs": [
    {
     "data": {
      "text/plain": [
       "<AxesSubplot:xlabel='province'>"
      ]
     },
     "execution_count": 35,
     "metadata": {},
     "output_type": "execute_result"
    },
    {
     "data": {
      "image/png": "[encoded data removed]",
      "text/plain": [
       "<Figure size 432x288 with 1 Axes>"
      ]
     },
     "metadata": {
      "needs_background": "light"
     },
     "output_type": "display_data"
    }
   ],
   "source": [
    "data.pivot_table(index = 'province',values = 'floor',aggfunc = 'mean').plot(kind='line')"
   ]
  },
  {
   "cell_type": "code",
   "execution_count": 36,
   "id": "172dc8f3",
   "metadata": {},
   "outputs": [
    {
     "data": {
      "text/plain": [
       "<AxesSubplot:xlabel='province'>"
      ]
     },
     "execution_count": 36,
     "metadata": {},
     "output_type": "execute_result"
    },
    {
     "data": {
      "image/png": "[encoded data removed]",
      "text/plain": [
       "<Figure size 432x288 with 1 Axes>"
      ]
     },
     "metadata": {
      "needs_background": "light"
     },
     "output_type": "display_data"
    }
   ],
   "source": [
    "data.pivot_table(index = 'province',values = 'age',aggfunc = 'mean').plot(kind='line')"
   ]
  },
  {
   "cell_type": "code",
   "execution_count": 37,
   "id": "b8cd4301",
   "metadata": {
    "scrolled": false
   },
   "outputs": [
    {
     "data": {
      "text/plain": [
       "<AxesSubplot:xlabel='province'>"
      ]
     },
     "execution_count": 37,
     "metadata": {},
     "output_type": "execute_result"
    },
    {
     "data": {
      "image/png": "[encoded data removed]",
      "text/plain": [
       "<Figure size 432x288 with 1 Axes>"
      ]
     },
     "metadata": {
      "needs_background": "light"
     },
     "output_type": "display_data"
    }
   ],
   "source": [
    "data.pivot_table(index = 'province',values = 'price',aggfunc = 'mean').plot(kind='line')"
   ]
  },
  {
   "cell_type": "code",
   "execution_count": 38,
   "id": "2a4337ff",
   "metadata": {
    "scrolled": false
   },
   "outputs": [
    {
     "data": {
      "text/plain": [
       "array(['Daire'], dtype=object)"
      ]
     },
     "execution_count": 38,
     "metadata": {},
     "output_type": "execute_result"
    }
   ],
   "source": [
    "data[data[\"province\"]==\"Kadıköy\"][\"housing_type\"].unique()"
   ]
  },
  {
   "cell_type": "markdown",
   "id": "07151d6a",
   "metadata": {},
   "source": [
    "## Housing Type"
   ]
  },
  {
   "cell_type": "code",
   "execution_count": 39,
   "id": "c3396709",
   "metadata": {
    "scrolled": true
   },
   "outputs": [
    {
     "data": {
      "text/plain": [
       "<AxesSubplot:xlabel='housing_type'>"
      ]
     },
     "execution_count": 39,
     "metadata": {},
     "output_type": "execute_result"
    },
    {
     "data": {
      "image/png": "[encoded data removed]",
      "text/plain": [
       "<Figure size 432x288 with 1 Axes>"
      ]
     },
     "metadata": {
      "needs_background": "light"
     },
     "output_type": "display_data"
    }
   ],
   "source": [
    "data[\"housing_type\"].value_counts()\n",
    "sns.barplot(x=data[\"housing_type\"].value_counts(),y=data[\"housing_type\"].unique(),data=data)"
   ]
  },
  {
   "cell_type": "code",
   "execution_count": 40,
   "id": "e6afc240",
   "metadata": {},
   "outputs": [
    {
     "data": {
      "text/plain": [
       "Text(0.5, 1.0, 'Housing Type')"
      ]
     },
     "execution_count": 40,
     "metadata": {},
     "output_type": "execute_result"
    },
    {
     "data": {
      "image/png": "[encoded data removed]",
      "text/plain": [
       "<Figure size 360x360 with 1 Axes>"
      ]
     },
     "metadata": {},
     "output_type": "display_data"
    }
   ],
   "source": [
    "fig = plt.figure(figsize=(5, 5))\n",
    "ax = plt.gca()\n",
    "\n",
    "ax.pie(data[\"housing_type\"].value_counts(), labels=data[\"housing_type\"].value_counts().index)\n",
    "ax.legend(data[\"housing_type\"].unique())\n",
    "ax.set_title(\"Housing Type\")"
   ]
  },
  {
   "cell_type": "code",
   "execution_count": 41,
   "id": "b4a9932e",
   "metadata": {},
   "outputs": [
    {
     "name": "stderr",
     "output_type": "stream",
     "text": [
      "C:\\Anaconda3\\lib\\site-packages\\seaborn\\categorical.py:3717: UserWarning: The `factorplot` function has been renamed to `catplot`. The original name will be removed in a future release. Please update your code. Note that the default `kind` in `factorplot` (`'point'`) has changed `'strip'` in `catplot`.\n",
      "  warnings.warn(msg)\n"
     ]
    },
    {
     "data": {
      "text/plain": [
       "<seaborn.axisgrid.FacetGrid at 0x1fa899c9b80>"
      ]
     },
     "execution_count": 41,
     "metadata": {},
     "output_type": "execute_result"
    },
    {
     "data": {
      "image/png": "[encoded data removed]",
      "text/plain": [
       "<Figure size 360x360 with 1 Axes>"
      ]
     },
     "metadata": {
      "needs_background": "light"
     },
     "output_type": "display_data"
    }
   ],
   "source": [
    "sns.factorplot(x='housing_type',y='price',data=data,kind='bar')"
   ]
  },
  {
   "cell_type": "markdown",
   "id": "24813cd5",
   "metadata": {},
   "source": [
    "## m2 "
   ]
  },
  {
   "cell_type": "code",
   "execution_count": 42,
   "id": "10b6b19a",
   "metadata": {
    "scrolled": true
   },
   "outputs": [
    {
     "data": {
      "text/plain": [
       "count    29005.000000\n",
       "mean       139.680193\n",
       "std         65.314169\n",
       "min          2.000000\n",
       "25%        100.000000\n",
       "50%        127.000000\n",
       "75%        160.000000\n",
       "max       2402.000000\n",
       "Name: m_2, dtype: float64"
      ]
     },
     "execution_count": 42,
     "metadata": {},
     "output_type": "execute_result"
    }
   ],
   "source": [
    "data[\"m_2\"].describe()"
   ]
  },
  {
   "cell_type": "code",
   "execution_count": 43,
   "id": "bc8d1aba",
   "metadata": {},
   "outputs": [
    {
     "data": {
      "image/png": "[encoded data removed]",
      "text/plain": [
       "<Figure size 360x360 with 1 Axes>"
      ]
     },
     "metadata": {
      "needs_background": "light"
     },
     "output_type": "display_data"
    }
   ],
   "source": [
    "fig = plt.figure(figsize=(5, 5))\n",
    "plt.hist(data[\"m_2\"],bins=100,density=True)\n",
    "plt.title(\"m2 dağılımları\")\n",
    "plt.show()"
   ]
  },
  {
   "cell_type": "code",
   "execution_count": 44,
   "id": "cc8eb4da",
   "metadata": {},
   "outputs": [
    {
     "data": {
      "text/plain": [
       "<AxesSubplot:xlabel='province'>"
      ]
     },
     "execution_count": 44,
     "metadata": {},
     "output_type": "execute_result"
    },
    {
     "data": {
      "image/png": "[encoded data removed]",
      "text/plain": [
       "<Figure size 432x288 with 1 Axes>"
      ]
     },
     "metadata": {
      "needs_background": "light"
     },
     "output_type": "display_data"
    }
   ],
   "source": [
    "data.pivot_table(index = 'province',values = 'm_2',aggfunc = 'mean').plot(kind='line')"
   ]
  },
  {
   "cell_type": "code",
   "execution_count": 45,
   "id": "df666b44",
   "metadata": {
    "scrolled": true
   },
   "outputs": [
    {
     "data": {
      "text/html": [
       "<div>\n",
       "<style scoped>\n",
       "    .dataframe tbody tr th:only-of-type {\n",
       "        vertical-align: middle;\n",
       "    }\n",
       "\n",
       "    .dataframe tbody tr th {\n",
       "        vertical-align: top;\n",
       "    }\n",
       "\n",
       "    .dataframe thead th {\n",
       "        text-align: right;\n",
       "    }\n",
       "</style>\n",
       "<table border=\"1\" class=\"dataframe\">\n",
       "  <thead>\n",
       "    <tr style=\"text-align: right;\">\n",
       "      <th></th>\n",
       "      <th>count</th>\n",
       "      <th>mean</th>\n",
       "      <th>std</th>\n",
       "      <th>min</th>\n",
       "      <th>25%</th>\n",
       "      <th>50%</th>\n",
       "      <th>75%</th>\n",
       "      <th>max</th>\n",
       "    </tr>\n",
       "  </thead>\n",
       "  <tbody>\n",
       "    <tr>\n",
       "      <th>age</th>\n",
       "      <td>29005.0</td>\n",
       "      <td>1.278828e+01</td>\n",
       "      <td>1.423720e+01</td>\n",
       "      <td>0.0</td>\n",
       "      <td>2.0</td>\n",
       "      <td>6.0</td>\n",
       "      <td>25.0</td>\n",
       "      <td>5.100000e+02</td>\n",
       "    </tr>\n",
       "    <tr>\n",
       "      <th>floor</th>\n",
       "      <td>29005.0</td>\n",
       "      <td>4.249612e+00</td>\n",
       "      <td>3.381527e+00</td>\n",
       "      <td>1.0</td>\n",
       "      <td>2.0</td>\n",
       "      <td>3.0</td>\n",
       "      <td>5.0</td>\n",
       "      <td>2.000000e+01</td>\n",
       "    </tr>\n",
       "    <tr>\n",
       "      <th>m_2</th>\n",
       "      <td>29005.0</td>\n",
       "      <td>1.396802e+02</td>\n",
       "      <td>6.531417e+01</td>\n",
       "      <td>2.0</td>\n",
       "      <td>100.0</td>\n",
       "      <td>127.0</td>\n",
       "      <td>160.0</td>\n",
       "      <td>2.402000e+03</td>\n",
       "    </tr>\n",
       "    <tr>\n",
       "      <th>price</th>\n",
       "      <td>29005.0</td>\n",
       "      <td>7.841389e+06</td>\n",
       "      <td>1.099037e+08</td>\n",
       "      <td>1.0</td>\n",
       "      <td>2350000.0</td>\n",
       "      <td>3720000.0</td>\n",
       "      <td>7000000.0</td>\n",
       "      <td>9.250000e+09</td>\n",
       "    </tr>\n",
       "  </tbody>\n",
       "</table>\n",
       "</div>"
      ],
      "text/plain": [
       "         count          mean           std  min        25%        50%  \\\n",
       "age    29005.0  1.278828e+01  1.423720e+01  0.0        2.0        6.0   \n",
       "floor  29005.0  4.249612e+00  3.381527e+00  1.0        2.0        3.0   \n",
       "m_2    29005.0  1.396802e+02  6.531417e+01  2.0      100.0      127.0   \n",
       "price  29005.0  7.841389e+06  1.099037e+08  1.0  2350000.0  3720000.0   \n",
       "\n",
       "             75%           max  \n",
       "age         25.0  5.100000e+02  \n",
       "floor        5.0  2.000000e+01  \n",
       "m_2        160.0  2.402000e+03  \n",
       "price  7000000.0  9.250000e+09  "
      ]
     },
     "execution_count": 45,
     "metadata": {},
     "output_type": "execute_result"
    }
   ],
   "source": [
    "data.describe().T"
   ]
  },
  {
   "cell_type": "markdown",
   "id": "6a0b1d46",
   "metadata": {},
   "source": [
    "# Veri Ön İşleme"
   ]
  },
  {
   "cell_type": "markdown",
   "id": "f6b9e341",
   "metadata": {},
   "source": [
    "## Aykırı Değer Tespiti"
   ]
  },
  {
   "cell_type": "code",
   "execution_count": 46,
   "id": "2cc16d87",
   "metadata": {},
   "outputs": [
    {
     "data": {
      "image/png": "[encoded data removed]",
      "text/plain": [
       "<Figure size 1440x576 with 3 Axes>"
      ]
     },
     "metadata": {
      "needs_background": "light"
     },
     "output_type": "display_data"
    }
   ],
   "source": [
    "fig, (ax1, ax2, ax3) = plt.subplots(1, 3, figsize = (20, 8))\n",
    " \n",
    "ax1.hist(data['price'])\n",
    "ax1.set_title(\"price\")\n",
    " \n",
    "ax2.hist(data['floor'])\n",
    "ax2.set_title(\"floor\")\n",
    " \n",
    "ax3.hist(data['age'])\n",
    "ax3.set_title(\"age\")\n",
    " \n",
    "plt.show()"
   ]
  },
  {
   "cell_type": "code",
   "execution_count": 47,
   "id": "00d81f69",
   "metadata": {
    "scrolled": true
   },
   "outputs": [
    {
     "data": {
      "image/png": "[encoded data removed]",
      "text/plain": [
       "<Figure size 432x288 with 1 Axes>"
      ]
     },
     "metadata": {
      "needs_background": "light"
     },
     "output_type": "display_data"
    }
   ],
   "source": [
    "plt.boxplot(data['floor'], vert=False)\n",
    "plt.xticks(fontsize=10)\n",
    "plt.xlabel('floor', fontsize=12)\n",
    "plt.title('Boxplot of Floors', fontsize=14)\n",
    "plt.show()"
   ]
  },
  {
   "cell_type": "code",
   "execution_count": 48,
   "id": "c2bf21a7",
   "metadata": {},
   "outputs": [
    {
     "data": {
      "image/png": "[encoded data removed]",
      "text/plain": [
       "<Figure size 432x288 with 1 Axes>"
      ]
     },
     "metadata": {
      "needs_background": "light"
     },
     "output_type": "display_data"
    }
   ],
   "source": [
    "plt.boxplot(data['price'], vert=False)\n",
    "plt.xticks(fontsize=10)\n",
    "plt.xlabel('price', fontsize=12)\n",
    "plt.title('Price Boxplot', fontsize=14)\n",
    "plt.show()"
   ]
  },
  {
   "cell_type": "code",
   "execution_count": 49,
   "id": "e76f2ccf",
   "metadata": {},
   "outputs": [
    {
     "data": {
      "image/png": "[encoded data removed]",
      "text/plain": [
       "<Figure size 432x288 with 1 Axes>"
      ]
     },
     "metadata": {
      "needs_background": "light"
     },
     "output_type": "display_data"
    }
   ],
   "source": [
    "plt.boxplot(data['m_2'], vert=False)\n",
    "plt.xticks(fontsize=10)\n",
    "plt.xlabel('m_2', fontsize=12)\n",
    "plt.title('m_2 Boxplotı', fontsize=14)\n",
    "plt.show()"
   ]
  },
  {
   "cell_type": "markdown",
   "id": "6b7eb7fc",
   "metadata": {},
   "source": [
    "### Z-score method"
   ]
  },
  {
   "cell_type": "code",
   "execution_count": 50,
   "id": "b3e227b9",
   "metadata": {},
   "outputs": [
    {
     "data": {
      "text/html": [
       "<div>\n",
       "<style scoped>\n",
       "    .dataframe tbody tr th:only-of-type {\n",
       "        vertical-align: middle;\n",
       "    }\n",
       "\n",
       "    .dataframe tbody tr th {\n",
       "        vertical-align: top;\n",
       "    }\n",
       "\n",
       "    .dataframe thead th {\n",
       "        text-align: right;\n",
       "    }\n",
       "</style>\n",
       "<table border=\"1\" class=\"dataframe\">\n",
       "  <thead>\n",
       "    <tr style=\"text-align: right;\">\n",
       "      <th></th>\n",
       "      <th>province</th>\n",
       "      <th>housing_type</th>\n",
       "      <th>age</th>\n",
       "      <th>floor</th>\n",
       "      <th>m_2</th>\n",
       "      <th>room_number</th>\n",
       "      <th>price</th>\n",
       "    </tr>\n",
       "  </thead>\n",
       "  <tbody>\n",
       "    <tr>\n",
       "      <th>1234</th>\n",
       "      <td>Bağcılar</td>\n",
       "      <td>Daire</td>\n",
       "      <td>17</td>\n",
       "      <td>2</td>\n",
       "      <td>135</td>\n",
       "      <td>3+1</td>\n",
       "      <td>3000000000</td>\n",
       "    </tr>\n",
       "    <tr>\n",
       "      <th>5607</th>\n",
       "      <td>Beylikdüzü</td>\n",
       "      <td>Daire</td>\n",
       "      <td>12</td>\n",
       "      <td>4</td>\n",
       "      <td>160</td>\n",
       "      <td>3+1</td>\n",
       "      <td>3700000000</td>\n",
       "    </tr>\n",
       "    <tr>\n",
       "      <th>7107</th>\n",
       "      <td>Beyoğlu</td>\n",
       "      <td>Daire</td>\n",
       "      <td>3</td>\n",
       "      <td>4</td>\n",
       "      <td>85</td>\n",
       "      <td>2+1</td>\n",
       "      <td>9250000000</td>\n",
       "    </tr>\n",
       "    <tr>\n",
       "      <th>7405</th>\n",
       "      <td>Beyoğlu</td>\n",
       "      <td>Daire</td>\n",
       "      <td>40</td>\n",
       "      <td>1</td>\n",
       "      <td>100</td>\n",
       "      <td>3+1</td>\n",
       "      <td>7780000000</td>\n",
       "    </tr>\n",
       "    <tr>\n",
       "      <th>8066</th>\n",
       "      <td>Büyükçekmece</td>\n",
       "      <td>Daire</td>\n",
       "      <td>0</td>\n",
       "      <td>4</td>\n",
       "      <td>600</td>\n",
       "      <td>8+3</td>\n",
       "      <td>7400000000</td>\n",
       "    </tr>\n",
       "    <tr>\n",
       "      <th>10830</th>\n",
       "      <td>Eyüpsultan</td>\n",
       "      <td>Daire</td>\n",
       "      <td>5</td>\n",
       "      <td>3</td>\n",
       "      <td>91</td>\n",
       "      <td>2+1</td>\n",
       "      <td>2500000000</td>\n",
       "    </tr>\n",
       "    <tr>\n",
       "      <th>18410</th>\n",
       "      <td>Kağıthane</td>\n",
       "      <td>Daire</td>\n",
       "      <td>6</td>\n",
       "      <td>4</td>\n",
       "      <td>180</td>\n",
       "      <td>4+1</td>\n",
       "      <td>5250000000</td>\n",
       "    </tr>\n",
       "    <tr>\n",
       "      <th>18835</th>\n",
       "      <td>Kağıthane</td>\n",
       "      <td>Daire</td>\n",
       "      <td>0</td>\n",
       "      <td>9</td>\n",
       "      <td>80</td>\n",
       "      <td>2+1</td>\n",
       "      <td>4200000000</td>\n",
       "    </tr>\n",
       "    <tr>\n",
       "      <th>20996</th>\n",
       "      <td>Küçükçekmece</td>\n",
       "      <td>Daire</td>\n",
       "      <td>0</td>\n",
       "      <td>11</td>\n",
       "      <td>160</td>\n",
       "      <td>4+1</td>\n",
       "      <td>8400000000</td>\n",
       "    </tr>\n",
       "    <tr>\n",
       "      <th>25725</th>\n",
       "      <td>Sultangazi</td>\n",
       "      <td>Daire</td>\n",
       "      <td>12</td>\n",
       "      <td>1</td>\n",
       "      <td>115</td>\n",
       "      <td>2+1</td>\n",
       "      <td>1949000000</td>\n",
       "    </tr>\n",
       "  </tbody>\n",
       "</table>\n",
       "</div>"
      ],
      "text/plain": [
       "           province housing_type  age  floor  m_2 room_number       price\n",
       "1234       Bağcılar        Daire   17      2  135         3+1  3000000000\n",
       "5607     Beylikdüzü        Daire   12      4  160         3+1  3700000000\n",
       "7107        Beyoğlu        Daire    3      4   85         2+1  9250000000\n",
       "7405        Beyoğlu        Daire   40      1  100         3+1  7780000000\n",
       "8066   Büyükçekmece        Daire    0      4  600         8+3  7400000000\n",
       "10830    Eyüpsultan        Daire    5      3   91         2+1  2500000000\n",
       "18410     Kağıthane        Daire    6      4  180         4+1  5250000000\n",
       "18835     Kağıthane        Daire    0      9   80         2+1  4200000000\n",
       "20996  Küçükçekmece        Daire    0     11  160         4+1  8400000000\n",
       "25725    Sultangazi        Daire   12      1  115         2+1  1949000000"
      ]
     },
     "execution_count": 50,
     "metadata": {},
     "output_type": "execute_result"
    }
   ],
   "source": [
    "z_score = (data['price'] - data['price'].mean()) / data['price'].std()\n",
    "\n",
    "# Z-puanını kullanarak aykırı değerlerin tespit edilmesi\n",
    "outliers = data[np.abs(z_score) > 3]\n",
    "outliers"
   ]
  },
  {
   "cell_type": "code",
   "execution_count": 51,
   "id": "4491f17a",
   "metadata": {},
   "outputs": [
    {
     "data": {
      "text/html": [
       "<div>\n",
       "<style scoped>\n",
       "    .dataframe tbody tr th:only-of-type {\n",
       "        vertical-align: middle;\n",
       "    }\n",
       "\n",
       "    .dataframe tbody tr th {\n",
       "        vertical-align: top;\n",
       "    }\n",
       "\n",
       "    .dataframe thead th {\n",
       "        text-align: right;\n",
       "    }\n",
       "</style>\n",
       "<table border=\"1\" class=\"dataframe\">\n",
       "  <thead>\n",
       "    <tr style=\"text-align: right;\">\n",
       "      <th></th>\n",
       "      <th>province</th>\n",
       "      <th>housing_type</th>\n",
       "      <th>age</th>\n",
       "      <th>floor</th>\n",
       "      <th>m_2</th>\n",
       "      <th>room_number</th>\n",
       "      <th>price</th>\n",
       "    </tr>\n",
       "  </thead>\n",
       "  <tbody>\n",
       "    <tr>\n",
       "      <th>177</th>\n",
       "      <td>Ataşehir</td>\n",
       "      <td>Daire</td>\n",
       "      <td>6</td>\n",
       "      <td>20</td>\n",
       "      <td>145</td>\n",
       "      <td>3+1</td>\n",
       "      <td>18000000</td>\n",
       "    </tr>\n",
       "    <tr>\n",
       "      <th>188</th>\n",
       "      <td>Ataşehir</td>\n",
       "      <td>Daire</td>\n",
       "      <td>21</td>\n",
       "      <td>18</td>\n",
       "      <td>70</td>\n",
       "      <td>1+1</td>\n",
       "      <td>4000000</td>\n",
       "    </tr>\n",
       "    <tr>\n",
       "      <th>195</th>\n",
       "      <td>Ataşehir</td>\n",
       "      <td>Daire</td>\n",
       "      <td>4</td>\n",
       "      <td>16</td>\n",
       "      <td>130</td>\n",
       "      <td>2+1</td>\n",
       "      <td>4000000</td>\n",
       "    </tr>\n",
       "    <tr>\n",
       "      <th>199</th>\n",
       "      <td>Ataşehir</td>\n",
       "      <td>Daire</td>\n",
       "      <td>5</td>\n",
       "      <td>17</td>\n",
       "      <td>125</td>\n",
       "      <td>3+1</td>\n",
       "      <td>5850000</td>\n",
       "    </tr>\n",
       "    <tr>\n",
       "      <th>201</th>\n",
       "      <td>Ataşehir</td>\n",
       "      <td>Daire</td>\n",
       "      <td>11</td>\n",
       "      <td>18</td>\n",
       "      <td>72</td>\n",
       "      <td>1+1</td>\n",
       "      <td>3700000</td>\n",
       "    </tr>\n",
       "    <tr>\n",
       "      <th>...</th>\n",
       "      <td>...</td>\n",
       "      <td>...</td>\n",
       "      <td>...</td>\n",
       "      <td>...</td>\n",
       "      <td>...</td>\n",
       "      <td>...</td>\n",
       "      <td>...</td>\n",
       "    </tr>\n",
       "    <tr>\n",
       "      <th>28262</th>\n",
       "      <td>Üsküdar</td>\n",
       "      <td>Daire</td>\n",
       "      <td>1</td>\n",
       "      <td>20</td>\n",
       "      <td>170</td>\n",
       "      <td>2+1</td>\n",
       "      <td>24000000</td>\n",
       "    </tr>\n",
       "    <tr>\n",
       "      <th>28429</th>\n",
       "      <td>Üsküdar</td>\n",
       "      <td>Daire</td>\n",
       "      <td>4</td>\n",
       "      <td>20</td>\n",
       "      <td>78</td>\n",
       "      <td>1+1</td>\n",
       "      <td>15500000</td>\n",
       "    </tr>\n",
       "    <tr>\n",
       "      <th>28544</th>\n",
       "      <td>Zeytinburnu</td>\n",
       "      <td>Daire</td>\n",
       "      <td>0</td>\n",
       "      <td>16</td>\n",
       "      <td>253</td>\n",
       "      <td>4+1</td>\n",
       "      <td>43000000</td>\n",
       "    </tr>\n",
       "    <tr>\n",
       "      <th>28703</th>\n",
       "      <td>Zeytinburnu</td>\n",
       "      <td>Daire</td>\n",
       "      <td>1</td>\n",
       "      <td>16</td>\n",
       "      <td>214</td>\n",
       "      <td>3+1</td>\n",
       "      <td>22750000</td>\n",
       "    </tr>\n",
       "    <tr>\n",
       "      <th>28983</th>\n",
       "      <td>Zeytinburnu</td>\n",
       "      <td>Daire</td>\n",
       "      <td>4</td>\n",
       "      <td>19</td>\n",
       "      <td>326</td>\n",
       "      <td>4+1</td>\n",
       "      <td>25000000</td>\n",
       "    </tr>\n",
       "  </tbody>\n",
       "</table>\n",
       "<p>596 rows × 7 columns</p>\n",
       "</div>"
      ],
      "text/plain": [
       "          province housing_type  age  floor  m_2 room_number     price\n",
       "177       Ataşehir        Daire    6     20  145         3+1  18000000\n",
       "188       Ataşehir        Daire   21     18   70         1+1   4000000\n",
       "195       Ataşehir        Daire    4     16  130         2+1   4000000\n",
       "199       Ataşehir        Daire    5     17  125         3+1   5850000\n",
       "201       Ataşehir        Daire   11     18   72         1+1   3700000\n",
       "...            ...          ...  ...    ...  ...         ...       ...\n",
       "28262      Üsküdar        Daire    1     20  170         2+1  24000000\n",
       "28429      Üsküdar        Daire    4     20   78         1+1  15500000\n",
       "28544  Zeytinburnu        Daire    0     16  253         4+1  43000000\n",
       "28703  Zeytinburnu        Daire    1     16  214         3+1  22750000\n",
       "28983  Zeytinburnu        Daire    4     19  326         4+1  25000000\n",
       "\n",
       "[596 rows x 7 columns]"
      ]
     },
     "execution_count": 51,
     "metadata": {},
     "output_type": "execute_result"
    }
   ],
   "source": [
    "z_score = (data['floor'] - data['floor'].mean()) / data['floor'].std()\n",
    "\n",
    "# Z-puanını kullanarak aykırı değerlerin tespit edilmesi\n",
    "outliers = data[np.abs(z_score) > 3]\n",
    "outliers"
   ]
  },
  {
   "cell_type": "markdown",
   "id": "a93d9be3",
   "metadata": {},
   "source": [
    "### Inter Quantile Range Method"
   ]
  },
  {
   "cell_type": "code",
   "execution_count": 52,
   "id": "5dbcc45f",
   "metadata": {},
   "outputs": [
    {
     "data": {
      "text/html": [
       "<div>\n",
       "<style scoped>\n",
       "    .dataframe tbody tr th:only-of-type {\n",
       "        vertical-align: middle;\n",
       "    }\n",
       "\n",
       "    .dataframe tbody tr th {\n",
       "        vertical-align: top;\n",
       "    }\n",
       "\n",
       "    .dataframe thead th {\n",
       "        text-align: right;\n",
       "    }\n",
       "</style>\n",
       "<table border=\"1\" class=\"dataframe\">\n",
       "  <thead>\n",
       "    <tr style=\"text-align: right;\">\n",
       "      <th></th>\n",
       "      <th>province</th>\n",
       "      <th>housing_type</th>\n",
       "      <th>age</th>\n",
       "      <th>floor</th>\n",
       "      <th>m_2</th>\n",
       "      <th>room_number</th>\n",
       "      <th>price</th>\n",
       "    </tr>\n",
       "  </thead>\n",
       "  <tbody>\n",
       "    <tr>\n",
       "      <th>56</th>\n",
       "      <td>Adalar</td>\n",
       "      <td>Daire</td>\n",
       "      <td>16</td>\n",
       "      <td>5</td>\n",
       "      <td>140</td>\n",
       "      <td>3+1</td>\n",
       "      <td>14500000</td>\n",
       "    </tr>\n",
       "    <tr>\n",
       "      <th>58</th>\n",
       "      <td>Adalar</td>\n",
       "      <td>Daire</td>\n",
       "      <td>40</td>\n",
       "      <td>4</td>\n",
       "      <td>279</td>\n",
       "      <td>5+2</td>\n",
       "      <td>14000000</td>\n",
       "    </tr>\n",
       "    <tr>\n",
       "      <th>73</th>\n",
       "      <td>Adalar</td>\n",
       "      <td>Yalı Dairesi</td>\n",
       "      <td>27</td>\n",
       "      <td>3</td>\n",
       "      <td>170</td>\n",
       "      <td>4+1</td>\n",
       "      <td>19950000</td>\n",
       "    </tr>\n",
       "    <tr>\n",
       "      <th>177</th>\n",
       "      <td>Ataşehir</td>\n",
       "      <td>Daire</td>\n",
       "      <td>6</td>\n",
       "      <td>20</td>\n",
       "      <td>145</td>\n",
       "      <td>3+1</td>\n",
       "      <td>18000000</td>\n",
       "    </tr>\n",
       "    <tr>\n",
       "      <th>196</th>\n",
       "      <td>Ataşehir</td>\n",
       "      <td>Daire</td>\n",
       "      <td>13</td>\n",
       "      <td>3</td>\n",
       "      <td>248</td>\n",
       "      <td>3+1</td>\n",
       "      <td>19500000</td>\n",
       "    </tr>\n",
       "    <tr>\n",
       "      <th>...</th>\n",
       "      <td>...</td>\n",
       "      <td>...</td>\n",
       "      <td>...</td>\n",
       "      <td>...</td>\n",
       "      <td>...</td>\n",
       "      <td>...</td>\n",
       "      <td>...</td>\n",
       "    </tr>\n",
       "    <tr>\n",
       "      <th>28930</th>\n",
       "      <td>Zeytinburnu</td>\n",
       "      <td>Daire</td>\n",
       "      <td>2</td>\n",
       "      <td>6</td>\n",
       "      <td>160</td>\n",
       "      <td>4+1</td>\n",
       "      <td>35500000</td>\n",
       "    </tr>\n",
       "    <tr>\n",
       "      <th>28954</th>\n",
       "      <td>Zeytinburnu</td>\n",
       "      <td>Daire</td>\n",
       "      <td>1</td>\n",
       "      <td>14</td>\n",
       "      <td>334</td>\n",
       "      <td>5+1</td>\n",
       "      <td>46000000</td>\n",
       "    </tr>\n",
       "    <tr>\n",
       "      <th>28969</th>\n",
       "      <td>Zeytinburnu</td>\n",
       "      <td>Daire</td>\n",
       "      <td>0</td>\n",
       "      <td>1</td>\n",
       "      <td>126</td>\n",
       "      <td>2+1</td>\n",
       "      <td>14800000</td>\n",
       "    </tr>\n",
       "    <tr>\n",
       "      <th>28979</th>\n",
       "      <td>Zeytinburnu</td>\n",
       "      <td>Daire</td>\n",
       "      <td>8</td>\n",
       "      <td>5</td>\n",
       "      <td>212</td>\n",
       "      <td>4+1</td>\n",
       "      <td>14500000</td>\n",
       "    </tr>\n",
       "    <tr>\n",
       "      <th>28983</th>\n",
       "      <td>Zeytinburnu</td>\n",
       "      <td>Daire</td>\n",
       "      <td>4</td>\n",
       "      <td>19</td>\n",
       "      <td>326</td>\n",
       "      <td>4+1</td>\n",
       "      <td>25000000</td>\n",
       "    </tr>\n",
       "  </tbody>\n",
       "</table>\n",
       "<p>2432 rows × 7 columns</p>\n",
       "</div>"
      ],
      "text/plain": [
       "          province  housing_type  age  floor  m_2 room_number     price\n",
       "56          Adalar         Daire   16      5  140         3+1  14500000\n",
       "58          Adalar         Daire   40      4  279         5+2  14000000\n",
       "73          Adalar  Yalı Dairesi   27      3  170         4+1  19950000\n",
       "177       Ataşehir         Daire    6     20  145         3+1  18000000\n",
       "196       Ataşehir         Daire   13      3  248         3+1  19500000\n",
       "...            ...           ...  ...    ...  ...         ...       ...\n",
       "28930  Zeytinburnu         Daire    2      6  160         4+1  35500000\n",
       "28954  Zeytinburnu         Daire    1     14  334         5+1  46000000\n",
       "28969  Zeytinburnu         Daire    0      1  126         2+1  14800000\n",
       "28979  Zeytinburnu         Daire    8      5  212         4+1  14500000\n",
       "28983  Zeytinburnu         Daire    4     19  326         4+1  25000000\n",
       "\n",
       "[2432 rows x 7 columns]"
      ]
     },
     "execution_count": 52,
     "metadata": {},
     "output_type": "execute_result"
    }
   ],
   "source": [
    "def iqr(df,var):\n",
    "    q1 = np.quantile(df[var], 0.25)\n",
    "    q3 = np.quantile(df[var], 0.75)\n",
    "    diff = q3 - q1\n",
    "    lower_t = q1 - (1.5 * diff)\n",
    "    upper_t = q3 + (1.5 * diff)\n",
    "    return df[(df[var] < lower_t) | (df[var] > upper_t)]\n",
    "outliersfiyat=iqr(data,\"price\")\n",
    "outliersm2=iqr(data,\"m_2\")\n",
    "outliersfiyat"
   ]
  },
  {
   "cell_type": "markdown",
   "id": "49c705b2",
   "metadata": {},
   "source": [
    "### Mean Absolute Deviation Method"
   ]
  },
  {
   "cell_type": "code",
   "execution_count": 53,
   "id": "3b01ef29",
   "metadata": {},
   "outputs": [
    {
     "name": "stdout",
     "output_type": "stream",
     "text": [
      "Mean Absolute Deviation :  6928763.105812594\n"
     ]
    },
    {
     "data": {
      "text/html": [
       "<div>\n",
       "<style scoped>\n",
       "    .dataframe tbody tr th:only-of-type {\n",
       "        vertical-align: middle;\n",
       "    }\n",
       "\n",
       "    .dataframe tbody tr th {\n",
       "        vertical-align: top;\n",
       "    }\n",
       "\n",
       "    .dataframe thead th {\n",
       "        text-align: right;\n",
       "    }\n",
       "</style>\n",
       "<table border=\"1\" class=\"dataframe\">\n",
       "  <thead>\n",
       "    <tr style=\"text-align: right;\">\n",
       "      <th></th>\n",
       "      <th>province</th>\n",
       "      <th>housing_type</th>\n",
       "      <th>age</th>\n",
       "      <th>floor</th>\n",
       "      <th>m_2</th>\n",
       "      <th>room_number</th>\n",
       "      <th>price</th>\n",
       "    </tr>\n",
       "  </thead>\n",
       "  <tbody>\n",
       "    <tr>\n",
       "      <th>636</th>\n",
       "      <td>Ataşehir</td>\n",
       "      <td>Daire</td>\n",
       "      <td>31</td>\n",
       "      <td>2</td>\n",
       "      <td>1080</td>\n",
       "      <td>3+1</td>\n",
       "      <td>35850000</td>\n",
       "    </tr>\n",
       "    <tr>\n",
       "      <th>1234</th>\n",
       "      <td>Bağcılar</td>\n",
       "      <td>Daire</td>\n",
       "      <td>17</td>\n",
       "      <td>2</td>\n",
       "      <td>135</td>\n",
       "      <td>3+1</td>\n",
       "      <td>3000000000</td>\n",
       "    </tr>\n",
       "    <tr>\n",
       "      <th>2476</th>\n",
       "      <td>Bakırköy</td>\n",
       "      <td>Daire</td>\n",
       "      <td>20</td>\n",
       "      <td>2</td>\n",
       "      <td>380</td>\n",
       "      <td>6+2</td>\n",
       "      <td>48000000</td>\n",
       "    </tr>\n",
       "    <tr>\n",
       "      <th>2502</th>\n",
       "      <td>Bakırköy</td>\n",
       "      <td>Daire</td>\n",
       "      <td>17</td>\n",
       "      <td>2</td>\n",
       "      <td>350</td>\n",
       "      <td>5+2</td>\n",
       "      <td>48000000</td>\n",
       "    </tr>\n",
       "    <tr>\n",
       "      <th>2558</th>\n",
       "      <td>Bakırköy</td>\n",
       "      <td>Daire</td>\n",
       "      <td>20</td>\n",
       "      <td>2</td>\n",
       "      <td>350</td>\n",
       "      <td>6+2</td>\n",
       "      <td>48000000</td>\n",
       "    </tr>\n",
       "    <tr>\n",
       "      <th>...</th>\n",
       "      <td>...</td>\n",
       "      <td>...</td>\n",
       "      <td>...</td>\n",
       "      <td>...</td>\n",
       "      <td>...</td>\n",
       "      <td>...</td>\n",
       "      <td>...</td>\n",
       "    </tr>\n",
       "    <tr>\n",
       "      <th>28780</th>\n",
       "      <td>Zeytinburnu</td>\n",
       "      <td>Daire</td>\n",
       "      <td>2</td>\n",
       "      <td>14</td>\n",
       "      <td>330</td>\n",
       "      <td>5+1</td>\n",
       "      <td>39500000</td>\n",
       "    </tr>\n",
       "    <tr>\n",
       "      <th>28860</th>\n",
       "      <td>Zeytinburnu</td>\n",
       "      <td>Daire</td>\n",
       "      <td>1</td>\n",
       "      <td>10</td>\n",
       "      <td>260</td>\n",
       "      <td>4+1</td>\n",
       "      <td>29000000</td>\n",
       "    </tr>\n",
       "    <tr>\n",
       "      <th>28889</th>\n",
       "      <td>Zeytinburnu</td>\n",
       "      <td>Daire</td>\n",
       "      <td>0</td>\n",
       "      <td>14</td>\n",
       "      <td>318</td>\n",
       "      <td>4+1</td>\n",
       "      <td>47000000</td>\n",
       "    </tr>\n",
       "    <tr>\n",
       "      <th>28930</th>\n",
       "      <td>Zeytinburnu</td>\n",
       "      <td>Daire</td>\n",
       "      <td>2</td>\n",
       "      <td>6</td>\n",
       "      <td>160</td>\n",
       "      <td>4+1</td>\n",
       "      <td>35500000</td>\n",
       "    </tr>\n",
       "    <tr>\n",
       "      <th>28954</th>\n",
       "      <td>Zeytinburnu</td>\n",
       "      <td>Daire</td>\n",
       "      <td>1</td>\n",
       "      <td>14</td>\n",
       "      <td>334</td>\n",
       "      <td>5+1</td>\n",
       "      <td>46000000</td>\n",
       "    </tr>\n",
       "  </tbody>\n",
       "</table>\n",
       "<p>401 rows × 7 columns</p>\n",
       "</div>"
      ],
      "text/plain": [
       "          province housing_type  age  floor   m_2 room_number       price\n",
       "636       Ataşehir        Daire   31      2  1080         3+1    35850000\n",
       "1234      Bağcılar        Daire   17      2   135         3+1  3000000000\n",
       "2476      Bakırköy        Daire   20      2   380         6+2    48000000\n",
       "2502      Bakırköy        Daire   17      2   350         5+2    48000000\n",
       "2558      Bakırköy        Daire   20      2   350         6+2    48000000\n",
       "...            ...          ...  ...    ...   ...         ...         ...\n",
       "28780  Zeytinburnu        Daire    2     14   330         5+1    39500000\n",
       "28860  Zeytinburnu        Daire    1     10   260         4+1    29000000\n",
       "28889  Zeytinburnu        Daire    0     14   318         4+1    47000000\n",
       "28930  Zeytinburnu        Daire    2      6   160         4+1    35500000\n",
       "28954  Zeytinburnu        Daire    1     14   334         5+1    46000000\n",
       "\n",
       "[401 rows x 7 columns]"
      ]
     },
     "execution_count": 53,
     "metadata": {},
     "output_type": "execute_result"
    }
   ],
   "source": [
    "# Ortalama değeri hesaplama\n",
    "mean = data['price'].mean()\n",
    "\n",
    "# Her bir verinin ortalamadan farkının mutlak değeri\n",
    "abs_deviations = np.abs(data['price'] - mean)\n",
    "\n",
    "# Ortalama Mutlak Sapma\n",
    "MAD = abs_deviations.mean()\n",
    "\n",
    "print(\"Mean Absolute Deviation : \", MAD)\n",
    "outliers = data[abs_deviations > 3 * MAD]\n",
    "outliers"
   ]
  },
  {
   "cell_type": "code",
   "execution_count": 54,
   "id": "7c92b78a",
   "metadata": {},
   "outputs": [
    {
     "data": {
      "text/html": [
       "<div>\n",
       "<style scoped>\n",
       "    .dataframe tbody tr th:only-of-type {\n",
       "        vertical-align: middle;\n",
       "    }\n",
       "\n",
       "    .dataframe tbody tr th {\n",
       "        vertical-align: top;\n",
       "    }\n",
       "\n",
       "    .dataframe thead th {\n",
       "        text-align: right;\n",
       "    }\n",
       "</style>\n",
       "<table border=\"1\" class=\"dataframe\">\n",
       "  <thead>\n",
       "    <tr style=\"text-align: right;\">\n",
       "      <th></th>\n",
       "      <th>province</th>\n",
       "      <th>housing_type</th>\n",
       "      <th>age</th>\n",
       "      <th>floor</th>\n",
       "      <th>m_2</th>\n",
       "      <th>room_number</th>\n",
       "      <th>price</th>\n",
       "    </tr>\n",
       "  </thead>\n",
       "  <tbody>\n",
       "    <tr>\n",
       "      <th>73</th>\n",
       "      <td>Adalar</td>\n",
       "      <td>Yalı Dairesi</td>\n",
       "      <td>27</td>\n",
       "      <td>3</td>\n",
       "      <td>170</td>\n",
       "      <td>4+1</td>\n",
       "      <td>19950000</td>\n",
       "    </tr>\n",
       "    <tr>\n",
       "      <th>196</th>\n",
       "      <td>Ataşehir</td>\n",
       "      <td>Daire</td>\n",
       "      <td>13</td>\n",
       "      <td>3</td>\n",
       "      <td>248</td>\n",
       "      <td>3+1</td>\n",
       "      <td>19500000</td>\n",
       "    </tr>\n",
       "    <tr>\n",
       "      <th>288</th>\n",
       "      <td>Ataşehir</td>\n",
       "      <td>Daire</td>\n",
       "      <td>13</td>\n",
       "      <td>4</td>\n",
       "      <td>320</td>\n",
       "      <td>4+1</td>\n",
       "      <td>24850000</td>\n",
       "    </tr>\n",
       "    <tr>\n",
       "      <th>356</th>\n",
       "      <td>Ataşehir</td>\n",
       "      <td>Daire</td>\n",
       "      <td>11</td>\n",
       "      <td>2</td>\n",
       "      <td>350</td>\n",
       "      <td>5+1</td>\n",
       "      <td>23500000</td>\n",
       "    </tr>\n",
       "    <tr>\n",
       "      <th>436</th>\n",
       "      <td>Ataşehir</td>\n",
       "      <td>Daire</td>\n",
       "      <td>9</td>\n",
       "      <td>15</td>\n",
       "      <td>360</td>\n",
       "      <td>5+1</td>\n",
       "      <td>21000000</td>\n",
       "    </tr>\n",
       "    <tr>\n",
       "      <th>...</th>\n",
       "      <td>...</td>\n",
       "      <td>...</td>\n",
       "      <td>...</td>\n",
       "      <td>...</td>\n",
       "      <td>...</td>\n",
       "      <td>...</td>\n",
       "      <td>...</td>\n",
       "    </tr>\n",
       "    <tr>\n",
       "      <th>28884</th>\n",
       "      <td>Zeytinburnu</td>\n",
       "      <td>Daire</td>\n",
       "      <td>1</td>\n",
       "      <td>13</td>\n",
       "      <td>206</td>\n",
       "      <td>3+1</td>\n",
       "      <td>24500000</td>\n",
       "    </tr>\n",
       "    <tr>\n",
       "      <th>28889</th>\n",
       "      <td>Zeytinburnu</td>\n",
       "      <td>Daire</td>\n",
       "      <td>0</td>\n",
       "      <td>14</td>\n",
       "      <td>318</td>\n",
       "      <td>4+1</td>\n",
       "      <td>47000000</td>\n",
       "    </tr>\n",
       "    <tr>\n",
       "      <th>28930</th>\n",
       "      <td>Zeytinburnu</td>\n",
       "      <td>Daire</td>\n",
       "      <td>2</td>\n",
       "      <td>6</td>\n",
       "      <td>160</td>\n",
       "      <td>4+1</td>\n",
       "      <td>35500000</td>\n",
       "    </tr>\n",
       "    <tr>\n",
       "      <th>28954</th>\n",
       "      <td>Zeytinburnu</td>\n",
       "      <td>Daire</td>\n",
       "      <td>1</td>\n",
       "      <td>14</td>\n",
       "      <td>334</td>\n",
       "      <td>5+1</td>\n",
       "      <td>46000000</td>\n",
       "    </tr>\n",
       "    <tr>\n",
       "      <th>28983</th>\n",
       "      <td>Zeytinburnu</td>\n",
       "      <td>Daire</td>\n",
       "      <td>4</td>\n",
       "      <td>19</td>\n",
       "      <td>326</td>\n",
       "      <td>4+1</td>\n",
       "      <td>25000000</td>\n",
       "    </tr>\n",
       "  </tbody>\n",
       "</table>\n",
       "<p>1345 rows × 7 columns</p>\n",
       "</div>"
      ],
      "text/plain": [
       "          province  housing_type  age  floor  m_2 room_number     price\n",
       "73          Adalar  Yalı Dairesi   27      3  170         4+1  19950000\n",
       "196       Ataşehir         Daire   13      3  248         3+1  19500000\n",
       "288       Ataşehir         Daire   13      4  320         4+1  24850000\n",
       "356       Ataşehir         Daire   11      2  350         5+1  23500000\n",
       "436       Ataşehir         Daire    9     15  360         5+1  21000000\n",
       "...            ...           ...  ...    ...  ...         ...       ...\n",
       "28884  Zeytinburnu         Daire    1     13  206         3+1  24500000\n",
       "28889  Zeytinburnu         Daire    0     14  318         4+1  47000000\n",
       "28930  Zeytinburnu         Daire    2      6  160         4+1  35500000\n",
       "28954  Zeytinburnu         Daire    1     14  334         5+1  46000000\n",
       "28983  Zeytinburnu         Daire    4     19  326         4+1  25000000\n",
       "\n",
       "[1345 rows x 7 columns]"
      ]
     },
     "execution_count": 54,
     "metadata": {},
     "output_type": "execute_result"
    }
   ],
   "source": [
    "def double_mad(df, var):\n",
    "    c = 1.4826\n",
    "    q2 = np.median(df[var])\n",
    "    bot_val = df.loc[df[var] <= df[var].median(), var]\n",
    "    bot_mad = (abs(bot_val - q2).median()) * c\n",
    "    up_val = df.loc[df[var] >= df[var].median(), var]\n",
    "    up_mad = (abs(up_val - q2).median()) * c\n",
    "    lower_t = q2 - (3 * bot_mad)\n",
    "    upper_t = q2 + (3 * up_mad)\n",
    "    return df[(df[var] < lower_t) | (df[var] > upper_t)]\n",
    "\n",
    "double_mad(data,\"price\")"
   ]
  },
  {
   "cell_type": "markdown",
   "id": "94d11c29",
   "metadata": {},
   "source": [
    "### Cleaning Outliers "
   ]
  },
  {
   "cell_type": "code",
   "execution_count": 55,
   "id": "714d15b2",
   "metadata": {},
   "outputs": [
    {
     "data": {
      "text/plain": [
       "(29005, 7)"
      ]
     },
     "execution_count": 55,
     "metadata": {},
     "output_type": "execute_result"
    }
   ],
   "source": [
    "data.shape"
   ]
  },
  {
   "cell_type": "code",
   "execution_count": 56,
   "id": "0fff032f",
   "metadata": {},
   "outputs": [],
   "source": [
    "data = data[~data.isin(outliersfiyat)].dropna()"
   ]
  },
  {
   "cell_type": "code",
   "execution_count": 57,
   "id": "87cfb2b5",
   "metadata": {},
   "outputs": [
    {
     "data": {
      "text/plain": [
       "(26573, 7)"
      ]
     },
     "execution_count": 57,
     "metadata": {},
     "output_type": "execute_result"
    }
   ],
   "source": [
    "data.shape"
   ]
  },
  {
   "cell_type": "code",
   "execution_count": 58,
   "id": "4ff79fdb",
   "metadata": {},
   "outputs": [
    {
     "data": {
      "image/png": "[encoded data removed]",
      "text/plain": [
       "<Figure size 432x288 with 1 Axes>"
      ]
     },
     "metadata": {
      "needs_background": "light"
     },
     "output_type": "display_data"
    }
   ],
   "source": [
    "plt.boxplot(data['price'], vert=False)\n",
    "plt.xticks(fontsize=10)\n",
    "plt.xlabel('price', fontsize=12)\n",
    "plt.title('Boxplot of prices', fontsize=14)\n",
    "plt.show()"
   ]
  },
  {
   "cell_type": "code",
   "execution_count": 59,
   "id": "9ab1ca82",
   "metadata": {},
   "outputs": [],
   "source": [
    "data = data[~data.isin(outliersm2)].dropna()"
   ]
  },
  {
   "cell_type": "code",
   "execution_count": 60,
   "id": "bfe08f8d",
   "metadata": {},
   "outputs": [
    {
     "data": {
      "text/plain": [
       "(26075, 7)"
      ]
     },
     "execution_count": 60,
     "metadata": {},
     "output_type": "execute_result"
    }
   ],
   "source": [
    "data.shape"
   ]
  },
  {
   "cell_type": "code",
   "execution_count": 61,
   "id": "f366e2f5",
   "metadata": {},
   "outputs": [
    {
     "data": {
      "image/png": "[encoded data removed]",
      "text/plain": [
       "<Figure size 432x288 with 1 Axes>"
      ]
     },
     "metadata": {
      "needs_background": "light"
     },
     "output_type": "display_data"
    }
   ],
   "source": [
    "plt.boxplot(data['m_2'], vert=False)\n",
    "plt.xticks(fontsize=10)\n",
    "plt.xlabel('m_2', fontsize=12)\n",
    "plt.title('m_2 Boxplotı', fontsize=14)\n",
    "plt.show()"
   ]
  },
  {
   "cell_type": "code",
   "execution_count": 62,
   "id": "f30f4c87",
   "metadata": {},
   "outputs": [
    {
     "data": {
      "text/html": [
       "<div>\n",
       "<style scoped>\n",
       "    .dataframe tbody tr th:only-of-type {\n",
       "        vertical-align: middle;\n",
       "    }\n",
       "\n",
       "    .dataframe tbody tr th {\n",
       "        vertical-align: top;\n",
       "    }\n",
       "\n",
       "    .dataframe thead th {\n",
       "        text-align: right;\n",
       "    }\n",
       "</style>\n",
       "<table border=\"1\" class=\"dataframe\">\n",
       "  <thead>\n",
       "    <tr style=\"text-align: right;\">\n",
       "      <th></th>\n",
       "      <th>province</th>\n",
       "      <th>housing_type</th>\n",
       "      <th>age</th>\n",
       "      <th>floor</th>\n",
       "      <th>m_2</th>\n",
       "      <th>room_number</th>\n",
       "      <th>price</th>\n",
       "    </tr>\n",
       "  </thead>\n",
       "  <tbody>\n",
       "    <tr>\n",
       "      <th>4335</th>\n",
       "      <td>Beşiktaş</td>\n",
       "      <td>Daire</td>\n",
       "      <td>90.0</td>\n",
       "      <td>3.0</td>\n",
       "      <td>100.0</td>\n",
       "      <td>2+1</td>\n",
       "      <td>9500000.0</td>\n",
       "    </tr>\n",
       "    <tr>\n",
       "      <th>5216</th>\n",
       "      <td>Beylikdüzü</td>\n",
       "      <td>Daire</td>\n",
       "      <td>201.0</td>\n",
       "      <td>6.0</td>\n",
       "      <td>95.0</td>\n",
       "      <td>2+1</td>\n",
       "      <td>2600000.0</td>\n",
       "    </tr>\n",
       "    <tr>\n",
       "      <th>5385</th>\n",
       "      <td>Beylikdüzü</td>\n",
       "      <td>Daire</td>\n",
       "      <td>510.0</td>\n",
       "      <td>14.0</td>\n",
       "      <td>155.0</td>\n",
       "      <td>3+1</td>\n",
       "      <td>4190000.0</td>\n",
       "    </tr>\n",
       "    <tr>\n",
       "      <th>7083</th>\n",
       "      <td>Beyoğlu</td>\n",
       "      <td>Daire</td>\n",
       "      <td>90.0</td>\n",
       "      <td>5.0</td>\n",
       "      <td>60.0</td>\n",
       "      <td>1+1</td>\n",
       "      <td>8400000.0</td>\n",
       "    </tr>\n",
       "    <tr>\n",
       "      <th>7092</th>\n",
       "      <td>Beyoğlu</td>\n",
       "      <td>Daire</td>\n",
       "      <td>70.0</td>\n",
       "      <td>2.0</td>\n",
       "      <td>200.0</td>\n",
       "      <td>3+1</td>\n",
       "      <td>11350000.0</td>\n",
       "    </tr>\n",
       "    <tr>\n",
       "      <th>...</th>\n",
       "      <td>...</td>\n",
       "      <td>...</td>\n",
       "      <td>...</td>\n",
       "      <td>...</td>\n",
       "      <td>...</td>\n",
       "      <td>...</td>\n",
       "      <td>...</td>\n",
       "    </tr>\n",
       "    <tr>\n",
       "      <th>26276</th>\n",
       "      <td>Şişli</td>\n",
       "      <td>Daire</td>\n",
       "      <td>115.0</td>\n",
       "      <td>1.0</td>\n",
       "      <td>120.0</td>\n",
       "      <td>3+1</td>\n",
       "      <td>6750000.0</td>\n",
       "    </tr>\n",
       "    <tr>\n",
       "      <th>26426</th>\n",
       "      <td>Şişli</td>\n",
       "      <td>Daire</td>\n",
       "      <td>65.0</td>\n",
       "      <td>1.0</td>\n",
       "      <td>185.0</td>\n",
       "      <td>3+1</td>\n",
       "      <td>6000000.0</td>\n",
       "    </tr>\n",
       "    <tr>\n",
       "      <th>26556</th>\n",
       "      <td>Şişli</td>\n",
       "      <td>Daire</td>\n",
       "      <td>65.0</td>\n",
       "      <td>1.0</td>\n",
       "      <td>185.0</td>\n",
       "      <td>3+1</td>\n",
       "      <td>6000000.0</td>\n",
       "    </tr>\n",
       "    <tr>\n",
       "      <th>26791</th>\n",
       "      <td>Şişli</td>\n",
       "      <td>Daire</td>\n",
       "      <td>100.0</td>\n",
       "      <td>3.0</td>\n",
       "      <td>200.0</td>\n",
       "      <td>4+1</td>\n",
       "      <td>9250000.0</td>\n",
       "    </tr>\n",
       "    <tr>\n",
       "      <th>28365</th>\n",
       "      <td>Üsküdar</td>\n",
       "      <td>Daire</td>\n",
       "      <td>62.0</td>\n",
       "      <td>2.0</td>\n",
       "      <td>110.0</td>\n",
       "      <td>2+1</td>\n",
       "      <td>13000000.0</td>\n",
       "    </tr>\n",
       "  </tbody>\n",
       "</table>\n",
       "<p>66 rows × 7 columns</p>\n",
       "</div>"
      ],
      "text/plain": [
       "         province housing_type    age  floor    m_2 room_number       price\n",
       "4335     Beşiktaş        Daire   90.0    3.0  100.0         2+1   9500000.0\n",
       "5216   Beylikdüzü        Daire  201.0    6.0   95.0         2+1   2600000.0\n",
       "5385   Beylikdüzü        Daire  510.0   14.0  155.0         3+1   4190000.0\n",
       "7083      Beyoğlu        Daire   90.0    5.0   60.0         1+1   8400000.0\n",
       "7092      Beyoğlu        Daire   70.0    2.0  200.0         3+1  11350000.0\n",
       "...           ...          ...    ...    ...    ...         ...         ...\n",
       "26276       Şişli        Daire  115.0    1.0  120.0         3+1   6750000.0\n",
       "26426       Şişli        Daire   65.0    1.0  185.0         3+1   6000000.0\n",
       "26556       Şişli        Daire   65.0    1.0  185.0         3+1   6000000.0\n",
       "26791       Şişli        Daire  100.0    3.0  200.0         4+1   9250000.0\n",
       "28365     Üsküdar        Daire   62.0    2.0  110.0         2+1  13000000.0\n",
       "\n",
       "[66 rows x 7 columns]"
      ]
     },
     "execution_count": 62,
     "metadata": {},
     "output_type": "execute_result"
    }
   ],
   "source": [
    "outliersyas=iqr(data,\"age\")\n",
    "outliersyas"
   ]
  },
  {
   "cell_type": "code",
   "execution_count": 63,
   "id": "6f86c389",
   "metadata": {},
   "outputs": [
    {
     "data": {
      "image/png": "[encoded data removed]",
      "text/plain": [
       "<Figure size 432x288 with 1 Axes>"
      ]
     },
     "metadata": {
      "needs_background": "light"
     },
     "output_type": "display_data"
    }
   ],
   "source": [
    "plt.boxplot(data['age'], vert=False)\n",
    "plt.xticks(fontsize=10)\n",
    "plt.xlabel('age', fontsize=12)\n",
    "plt.title('age Boxplot', fontsize=14)\n",
    "plt.show()"
   ]
  },
  {
   "cell_type": "code",
   "execution_count": 64,
   "id": "e50acfa8",
   "metadata": {},
   "outputs": [
    {
     "data": {
      "text/plain": [
       "(26009, 7)"
      ]
     },
     "execution_count": 64,
     "metadata": {},
     "output_type": "execute_result"
    }
   ],
   "source": [
    "data = data[~data.isin(outliersyas)].dropna()\n",
    "data.shape"
   ]
  },
  {
   "cell_type": "code",
   "execution_count": 65,
   "id": "12b53e23",
   "metadata": {},
   "outputs": [
    {
     "data": {
      "image/png": "[encoded data removed]",
      "text/plain": [
       "<Figure size 432x288 with 1 Axes>"
      ]
     },
     "metadata": {
      "needs_background": "light"
     },
     "output_type": "display_data"
    }
   ],
   "source": [
    "plt.boxplot(data['age'], vert=False)\n",
    "plt.xticks(fontsize=10)\n",
    "plt.xlabel('age', fontsize=12)\n",
    "plt.title('age Boxplot', fontsize=14)\n",
    "plt.show()"
   ]
  },
  {
   "cell_type": "markdown",
   "id": "31243c7c",
   "metadata": {},
   "source": [
    "### Quantising Categorical Variables"
   ]
  },
  {
   "cell_type": "code",
   "execution_count": 66,
   "id": "40280767",
   "metadata": {},
   "outputs": [],
   "source": [
    "from sklearn import preprocessing\n",
    "le=preprocessing.LabelEncoder()"
   ]
  },
  {
   "cell_type": "code",
   "execution_count": 67,
   "id": "16fbcc96",
   "metadata": {},
   "outputs": [],
   "source": [
    "df=data.copy()"
   ]
  },
  {
   "cell_type": "code",
   "execution_count": 68,
   "id": "09a7942b",
   "metadata": {},
   "outputs": [],
   "source": [
    "df[\"province\"] = le.fit_transform(df.province)"
   ]
  },
  {
   "cell_type": "code",
   "execution_count": 69,
   "id": "b7b7c86c",
   "metadata": {},
   "outputs": [
    {
     "data": {
      "text/plain": [
       "array(['Adalar', 'Arnavutköy', 'Ataşehir', 'Avcılar', 'Bahçelievler',\n",
       "       'Bakırköy', 'Bayrampaşa', 'Bağcılar', 'Başakşehir', 'Beykoz',\n",
       "       'Beylikdüzü', 'Beyoğlu', 'Beşiktaş', 'Büyükçekmece', 'Esenler',\n",
       "       'Esenyurt', 'Eyüpsultan', 'Fatih', 'Gaziosmanpasa', 'Güngören',\n",
       "       'Kadıköy', 'Kartal', 'Kağıthane', 'Küçükçekmece', 'Maltepe',\n",
       "       'Pendik', 'Sancaktepe', 'Sarıyer', 'Silivri', 'Sultanbeyli',\n",
       "       'Sultangazi', 'Tuzla', 'Zeytinburnu', 'Çatalca', 'Çekmeköy',\n",
       "       'Ümraniye', 'Üsküdar', 'Şile', 'Şişli'], dtype=object)"
      ]
     },
     "execution_count": 69,
     "metadata": {},
     "output_type": "execute_result"
    }
   ],
   "source": [
    "le.classes_"
   ]
  },
  {
   "cell_type": "code",
   "execution_count": 70,
   "id": "2c72628c",
   "metadata": {},
   "outputs": [
    {
     "data": {
      "text/plain": [
       "array([ 0,  1,  2,  3,  7,  4,  5,  8,  6, 12,  9, 10, 11, 13, 33, 34, 14,\n",
       "       15, 16, 17, 18, 19, 20, 22, 21, 23, 24, 25, 26, 27, 28, 29, 30, 37,\n",
       "       38, 31, 35, 36, 32])"
      ]
     },
     "execution_count": 70,
     "metadata": {},
     "output_type": "execute_result"
    }
   ],
   "source": [
    "df[\"province\"].unique()"
   ]
  },
  {
   "cell_type": "code",
   "execution_count": 71,
   "id": "bfe82cb3",
   "metadata": {},
   "outputs": [
    {
     "data": {
      "text/plain": [
       "array(['Zeytinburnu'], dtype=object)"
      ]
     },
     "execution_count": 71,
     "metadata": {},
     "output_type": "execute_result"
    }
   ],
   "source": [
    "le.inverse_transform([32])"
   ]
  },
  {
   "cell_type": "code",
   "execution_count": 72,
   "id": "ca9b4651",
   "metadata": {},
   "outputs": [
    {
     "name": "stdout",
     "output_type": "stream",
     "text": [
      "<class 'pandas.core.frame.DataFrame'>\n",
      "Int64Index: 26009 entries, 0 to 29004\n",
      "Data columns (total 7 columns):\n",
      " #   Column        Non-Null Count  Dtype  \n",
      "---  ------        --------------  -----  \n",
      " 0   province      26009 non-null  int32  \n",
      " 1   housing_type  26009 non-null  object \n",
      " 2   age           26009 non-null  float64\n",
      " 3   floor         26009 non-null  float64\n",
      " 4   m_2           26009 non-null  float64\n",
      " 5   room_number   26009 non-null  object \n",
      " 6   price         26009 non-null  float64\n",
      "dtypes: float64(4), int32(1), object(2)\n",
      "memory usage: 1.5+ MB\n"
     ]
    }
   ],
   "source": [
    "df.info()"
   ]
  },
  {
   "cell_type": "code",
   "execution_count": 73,
   "id": "3f08e379",
   "metadata": {},
   "outputs": [],
   "source": [
    "df[\"housing_type\"] = le.fit_transform(df.housing_type)\n",
    "df[\"room_number\"] = le.fit_transform(df.room_number)\n"
   ]
  },
  {
   "cell_type": "code",
   "execution_count": 74,
   "id": "64d6b113",
   "metadata": {
    "scrolled": true
   },
   "outputs": [
    {
     "data": {
      "text/html": [
       "<div>\n",
       "<style scoped>\n",
       "    .dataframe tbody tr th:only-of-type {\n",
       "        vertical-align: middle;\n",
       "    }\n",
       "\n",
       "    .dataframe tbody tr th {\n",
       "        vertical-align: top;\n",
       "    }\n",
       "\n",
       "    .dataframe thead th {\n",
       "        text-align: right;\n",
       "    }\n",
       "</style>\n",
       "<table border=\"1\" class=\"dataframe\">\n",
       "  <thead>\n",
       "    <tr style=\"text-align: right;\">\n",
       "      <th></th>\n",
       "      <th>province</th>\n",
       "      <th>housing_type</th>\n",
       "      <th>age</th>\n",
       "      <th>floor</th>\n",
       "      <th>m_2</th>\n",
       "      <th>room_number</th>\n",
       "      <th>price</th>\n",
       "    </tr>\n",
       "  </thead>\n",
       "  <tbody>\n",
       "    <tr>\n",
       "      <th>0</th>\n",
       "      <td>0</td>\n",
       "      <td>0</td>\n",
       "      <td>33.0</td>\n",
       "      <td>3.0</td>\n",
       "      <td>140.0</td>\n",
       "      <td>13</td>\n",
       "      <td>4800000.0</td>\n",
       "    </tr>\n",
       "    <tr>\n",
       "      <th>1</th>\n",
       "      <td>0</td>\n",
       "      <td>0</td>\n",
       "      <td>31.0</td>\n",
       "      <td>2.0</td>\n",
       "      <td>138.0</td>\n",
       "      <td>22</td>\n",
       "      <td>8500000.0</td>\n",
       "    </tr>\n",
       "    <tr>\n",
       "      <th>2</th>\n",
       "      <td>0</td>\n",
       "      <td>0</td>\n",
       "      <td>36.0</td>\n",
       "      <td>1.0</td>\n",
       "      <td>59.0</td>\n",
       "      <td>0</td>\n",
       "      <td>2475000.0</td>\n",
       "    </tr>\n",
       "    <tr>\n",
       "      <th>3</th>\n",
       "      <td>0</td>\n",
       "      <td>0</td>\n",
       "      <td>35.0</td>\n",
       "      <td>3.0</td>\n",
       "      <td>227.0</td>\n",
       "      <td>30</td>\n",
       "      <td>8500000.0</td>\n",
       "    </tr>\n",
       "    <tr>\n",
       "      <th>4</th>\n",
       "      <td>0</td>\n",
       "      <td>0</td>\n",
       "      <td>40.0</td>\n",
       "      <td>2.0</td>\n",
       "      <td>150.0</td>\n",
       "      <td>17</td>\n",
       "      <td>5900000.0</td>\n",
       "    </tr>\n",
       "    <tr>\n",
       "      <th>...</th>\n",
       "      <td>...</td>\n",
       "      <td>...</td>\n",
       "      <td>...</td>\n",
       "      <td>...</td>\n",
       "      <td>...</td>\n",
       "      <td>...</td>\n",
       "      <td>...</td>\n",
       "    </tr>\n",
       "    <tr>\n",
       "      <th>29000</th>\n",
       "      <td>32</td>\n",
       "      <td>0</td>\n",
       "      <td>28.0</td>\n",
       "      <td>4.0</td>\n",
       "      <td>240.0</td>\n",
       "      <td>27</td>\n",
       "      <td>3100000.0</td>\n",
       "    </tr>\n",
       "    <tr>\n",
       "      <th>29001</th>\n",
       "      <td>32</td>\n",
       "      <td>0</td>\n",
       "      <td>7.0</td>\n",
       "      <td>2.0</td>\n",
       "      <td>161.0</td>\n",
       "      <td>13</td>\n",
       "      <td>9500000.0</td>\n",
       "    </tr>\n",
       "    <tr>\n",
       "      <th>29002</th>\n",
       "      <td>32</td>\n",
       "      <td>0</td>\n",
       "      <td>22.0</td>\n",
       "      <td>1.0</td>\n",
       "      <td>150.0</td>\n",
       "      <td>22</td>\n",
       "      <td>3250000.0</td>\n",
       "    </tr>\n",
       "    <tr>\n",
       "      <th>29003</th>\n",
       "      <td>32</td>\n",
       "      <td>0</td>\n",
       "      <td>5.0</td>\n",
       "      <td>2.0</td>\n",
       "      <td>70.0</td>\n",
       "      <td>0</td>\n",
       "      <td>2000000.0</td>\n",
       "    </tr>\n",
       "    <tr>\n",
       "      <th>29004</th>\n",
       "      <td>32</td>\n",
       "      <td>0</td>\n",
       "      <td>25.0</td>\n",
       "      <td>1.0</td>\n",
       "      <td>140.0</td>\n",
       "      <td>13</td>\n",
       "      <td>2450000.0</td>\n",
       "    </tr>\n",
       "  </tbody>\n",
       "</table>\n",
       "<p>26009 rows × 7 columns</p>\n",
       "</div>"
      ],
      "text/plain": [
       "       province  housing_type   age  floor    m_2  room_number      price\n",
       "0             0             0  33.0    3.0  140.0           13  4800000.0\n",
       "1             0             0  31.0    2.0  138.0           22  8500000.0\n",
       "2             0             0  36.0    1.0   59.0            0  2475000.0\n",
       "3             0             0  35.0    3.0  227.0           30  8500000.0\n",
       "4             0             0  40.0    2.0  150.0           17  5900000.0\n",
       "...         ...           ...   ...    ...    ...          ...        ...\n",
       "29000        32             0  28.0    4.0  240.0           27  3100000.0\n",
       "29001        32             0   7.0    2.0  161.0           13  9500000.0\n",
       "29002        32             0  22.0    1.0  150.0           22  3250000.0\n",
       "29003        32             0   5.0    2.0   70.0            0  2000000.0\n",
       "29004        32             0  25.0    1.0  140.0           13  2450000.0\n",
       "\n",
       "[26009 rows x 7 columns]"
      ]
     },
     "execution_count": 74,
     "metadata": {},
     "output_type": "execute_result"
    }
   ],
   "source": [
    "df"
   ]
  },
  {
   "cell_type": "markdown",
   "id": "2acc114e",
   "metadata": {},
   "source": [
    "# Machine Learning"
   ]
  },
  {
   "cell_type": "markdown",
   "id": "66bbf29d",
   "metadata": {},
   "source": [
    "## XGBOOST"
   ]
  },
  {
   "cell_type": "code",
   "execution_count": 76,
   "id": "9e80fd34",
   "metadata": {},
   "outputs": [],
   "source": [
    "#pip install xgboost"
   ]
  },
  {
   "cell_type": "code",
   "execution_count": 75,
   "id": "3400980c",
   "metadata": {},
   "outputs": [],
   "source": [
    "import xgboost as xgb\n",
    "from xgboost import XGBRegressor\n",
    "from sklearn.model_selection import GridSearchCV ,train_test_split, cross_val_score\n",
    "from sklearn.metrics import mean_squared_error, r2_score,mean_absolute_error,accuracy_score\n",
    "from sklearn import model_selection\n",
    "from sklearn.preprocessing import RobustScaler, StandardScaler\n"
   ]
  },
  {
   "cell_type": "code",
   "execution_count": 76,
   "id": "ae87d765",
   "metadata": {},
   "outputs": [],
   "source": [
    "df.reset_index(drop=True, inplace=True)"
   ]
  },
  {
   "cell_type": "code",
   "execution_count": 77,
   "id": "e38cf6ac",
   "metadata": {},
   "outputs": [
    {
     "name": "stdout",
     "output_type": "stream",
     "text": [
      "<class 'pandas.core.frame.DataFrame'>\n",
      "RangeIndex: 26009 entries, 0 to 26008\n",
      "Data columns (total 7 columns):\n",
      " #   Column        Non-Null Count  Dtype  \n",
      "---  ------        --------------  -----  \n",
      " 0   province      26009 non-null  int32  \n",
      " 1   housing_type  26009 non-null  int32  \n",
      " 2   age           26009 non-null  float64\n",
      " 3   floor         26009 non-null  float64\n",
      " 4   m_2           26009 non-null  float64\n",
      " 5   room_number   26009 non-null  int32  \n",
      " 6   price         26009 non-null  float64\n",
      "dtypes: float64(4), int32(3)\n",
      "memory usage: 1.1 MB\n"
     ]
    }
   ],
   "source": [
    "df.info()"
   ]
  },
  {
   "cell_type": "code",
   "execution_count": 78,
   "id": "41935327",
   "metadata": {},
   "outputs": [],
   "source": [
    "X= df.drop([\"price\"] , axis=1)\n",
    "y=df[\"price\"]"
   ]
  },
  {
   "cell_type": "code",
   "execution_count": 79,
   "id": "ac29b711",
   "metadata": {},
   "outputs": [],
   "source": [
    "X_train, X_test, y_train, y_test = train_test_split(X, y, test_size=0.2, random_state=0)"
   ]
  },
  {
   "cell_type": "code",
   "execution_count": 501,
   "id": "554a31f7",
   "metadata": {},
   "outputs": [],
   "source": [
    "\"\"\"\n",
    "scaler = RobustScaler()  # RobustScaler #StandardScaler\n",
    "X_train = scaler.fit_transform(X_train)\n",
    "X_test = scaler.transform(X_test)\n",
    "\n",
    "\"\"\""
   ]
  },
  {
   "cell_type": "code",
   "execution_count": null,
   "id": "7593ef4c",
   "metadata": {},
   "outputs": [
    {
     "name": "stdout",
     "output_type": "stream",
     "text": [
      "Fitting 5 folds for each of 27 candidates, totalling 135 fits\n"
     ]
    }
   ],
   "source": [
    "xgb_model = xgb.XGBRegressor()\n",
    "\n",
    "parameters = {'learning_rate': [0.1, 0.01, 0.001],\n",
    "              'n_estimators': [100, 500, 1000],\n",
    "              'max_depth': [3, 5, 7]}\n",
    "\n",
    "xgb_grid = GridSearchCV(xgb_model,\n",
    "                        parameters,\n",
    "                        cv=5,\n",
    "                        n_jobs=-1,\n",
    "                        verbose=1)\n",
    "\n",
    "xgb_grid.fit(X_train, y_train)\n",
    "\n",
    "print(\"Best hyperparameter values:\", xgb_grid.best_params_)"
   ]
  },
  {
   "cell_type": "code",
   "execution_count": 80,
   "id": "2c506739",
   "metadata": {},
   "outputs": [],
   "source": [
    "xgb1=XGBRegressor(max_depth=5,learning_rate=0.1,n_estimators=500)"
   ]
  },
  {
   "cell_type": "code",
   "execution_count": 81,
   "id": "377d33f4",
   "metadata": {},
   "outputs": [],
   "source": [
    "model_xgb=xgb1.fit(X_train,y_train)"
   ]
  },
  {
   "cell_type": "code",
   "execution_count": 82,
   "id": "91fa3303",
   "metadata": {},
   "outputs": [],
   "source": [
    "predictionxgb=model_xgb.predict(X_test)"
   ]
  },
  {
   "cell_type": "code",
   "execution_count": 121,
   "id": "f04ba07f",
   "metadata": {
    "scrolled": true
   },
   "outputs": [
    {
     "data": {
      "text/plain": [
       "20168    2850000.0\n",
       "21986    1525000.0\n",
       "3840     9250000.0\n",
       "20080    2500000.0\n",
       "5547     3000000.0\n",
       "17718    6750000.0\n",
       "20206    3950000.0\n",
       "8457     1449000.0\n",
       "6278     2250000.0\n",
       "20010    3195000.0\n",
       "5640     1650000.0\n",
       "14262    7985000.0\n",
       "2164     2850000.0\n",
       "18027    2290000.0\n",
       "19412    1850000.0\n",
       "25276    3750000.0\n",
       "644      7100000.0\n",
       "12237    5950000.0\n",
       "13821    3995000.0\n",
       "25164    2550000.0\n",
       "5608     3000000.0\n",
       "5126     1130000.0\n",
       "13096    6850000.0\n",
       "3131     1450000.0\n",
       "17959    1795000.0\n",
       "6518     6150000.0\n",
       "17743    2070000.0\n",
       "15232    9500000.0\n",
       "9703     3050000.0\n",
       "20554    2850000.0\n",
       "Name: price, dtype: float64"
      ]
     },
     "execution_count": 121,
     "metadata": {},
     "output_type": "execute_result"
    }
   ],
   "source": [
    "y_test[20:50]"
   ]
  },
  {
   "cell_type": "code",
   "execution_count": 122,
   "id": "ff417a71",
   "metadata": {},
   "outputs": [
    {
     "data": {
      "text/plain": [
       "array([ 3742057.5,  1950164. , 10308695. ,  3094592. ,  3837647.8,\n",
       "        8759007. ,  3276311.2,  2153353.2,  3239774. ,  3700625.5,\n",
       "        2803991.5,  7853665. ,  3405049.8,  3424294.5,  3169203.5,\n",
       "        5360439.5,  1970110.6,  5754992. ,  4246339.5,  2805759.5,\n",
       "        4138923. ,  2357828.8,  5981157. ,  2224527. ,  1829830.8,\n",
       "        5070517. ,  2129338.5,  7785325. ,  6286280.5,  2442795.5],\n",
       "      dtype=float32)"
      ]
     },
     "execution_count": 122,
     "metadata": {},
     "output_type": "execute_result"
    }
   ],
   "source": [
    "predictionxgb[20:50]"
   ]
  },
  {
   "cell_type": "code",
   "execution_count": 123,
   "id": "00b5459c",
   "metadata": {},
   "outputs": [
    {
     "data": {
      "text/html": [
       "<div>\n",
       "<style scoped>\n",
       "    .dataframe tbody tr th:only-of-type {\n",
       "        vertical-align: middle;\n",
       "    }\n",
       "\n",
       "    .dataframe tbody tr th {\n",
       "        vertical-align: top;\n",
       "    }\n",
       "\n",
       "    .dataframe thead th {\n",
       "        text-align: right;\n",
       "    }\n",
       "</style>\n",
       "<table border=\"1\" class=\"dataframe\">\n",
       "  <thead>\n",
       "    <tr style=\"text-align: right;\">\n",
       "      <th></th>\n",
       "      <th>Actual</th>\n",
       "      <th>Predicted</th>\n",
       "    </tr>\n",
       "  </thead>\n",
       "  <tbody>\n",
       "    <tr>\n",
       "      <th>17151</th>\n",
       "      <td>1550000.0</td>\n",
       "      <td>4.251076e+06</td>\n",
       "    </tr>\n",
       "    <tr>\n",
       "      <th>16991</th>\n",
       "      <td>3050000.0</td>\n",
       "      <td>3.206553e+06</td>\n",
       "    </tr>\n",
       "    <tr>\n",
       "      <th>19582</th>\n",
       "      <td>2000000.0</td>\n",
       "      <td>4.859064e+06</td>\n",
       "    </tr>\n",
       "    <tr>\n",
       "      <th>16646</th>\n",
       "      <td>3190000.0</td>\n",
       "      <td>3.080573e+06</td>\n",
       "    </tr>\n",
       "    <tr>\n",
       "      <th>4098</th>\n",
       "      <td>10250000.0</td>\n",
       "      <td>1.175182e+07</td>\n",
       "    </tr>\n",
       "    <tr>\n",
       "      <th>15274</th>\n",
       "      <td>11700000.0</td>\n",
       "      <td>1.192807e+07</td>\n",
       "    </tr>\n",
       "    <tr>\n",
       "      <th>9138</th>\n",
       "      <td>1900000.0</td>\n",
       "      <td>1.654348e+06</td>\n",
       "    </tr>\n",
       "  </tbody>\n",
       "</table>\n",
       "</div>"
      ],
      "text/plain": [
       "           Actual     Predicted\n",
       "17151   1550000.0  4.251076e+06\n",
       "16991   3050000.0  3.206553e+06\n",
       "19582   2000000.0  4.859064e+06\n",
       "16646   3190000.0  3.080573e+06\n",
       "4098   10250000.0  1.175182e+07\n",
       "15274  11700000.0  1.192807e+07\n",
       "9138    1900000.0  1.654348e+06"
      ]
     },
     "execution_count": 123,
     "metadata": {},
     "output_type": "execute_result"
    }
   ],
   "source": [
    "df_temp=pd.DataFrame({'Actual': y_test, 'Predicted': predictionxgb})\n",
    "df_temp.head(7)"
   ]
  },
  {
   "cell_type": "code",
   "execution_count": 124,
   "id": "44ede277",
   "metadata": {},
   "outputs": [
    {
     "data": {
      "text/plain": [
       "0.7584536999500338"
      ]
     },
     "execution_count": 124,
     "metadata": {},
     "output_type": "execute_result"
    }
   ],
   "source": [
    "model_xgb.score(X_test,y_test)"
   ]
  },
  {
   "cell_type": "code",
   "execution_count": 125,
   "id": "cfb42c15",
   "metadata": {},
   "outputs": [
    {
     "data": {
      "text/plain": [
       "0.8254966058690846"
      ]
     },
     "execution_count": 125,
     "metadata": {},
     "output_type": "execute_result"
    }
   ],
   "source": [
    "model_xgb.score(X_train,y_train)"
   ]
  },
  {
   "cell_type": "code",
   "execution_count": 126,
   "id": "1deb9af9",
   "metadata": {},
   "outputs": [
    {
     "name": "stdout",
     "output_type": "stream",
     "text": [
      "Mean Absolute Error: 969370.7759155133\n",
      "Mean Squared Error: 1999917573190.8547\n",
      "Root Mean Squared Error: 1414184.4197949767\n"
     ]
    }
   ],
   "source": [
    "y_pred = model_xgb.predict(X_test)\n",
    "print('Mean Absolute Error:', mean_absolute_error(y_test, y_pred))  \n",
    "print('Mean Squared Error:', mean_squared_error(y_test, y_pred))  \n",
    "print('Root Mean Squared Error:', np.sqrt(mean_squared_error(y_test, y_pred)))"
   ]
  },
  {
   "cell_type": "code",
   "execution_count": 127,
   "id": "d92fa59a",
   "metadata": {},
   "outputs": [
    {
     "name": "stdout",
     "output_type": "stream",
     "text": [
      "R²: 0.7584536999500338\n"
     ]
    }
   ],
   "source": [
    "R2=r2_score(y_test,y_pred)\n",
    "print(\"R²:\", R2)"
   ]
  },
  {
   "cell_type": "code",
   "execution_count": 128,
   "id": "3186d554",
   "metadata": {},
   "outputs": [
    {
     "name": "stdout",
     "output_type": "stream",
     "text": [
      "Adjusted R²: 0.7583979627836503\n"
     ]
    }
   ],
   "source": [
    "adj_r2 = 1-(1-R2)*(26009 -1)/(26009 -6-1)\n",
    "print(\"Adjusted R²:\", adj_r2)"
   ]
  },
  {
   "cell_type": "code",
   "execution_count": 129,
   "id": "647824f8",
   "metadata": {},
   "outputs": [
    {
     "data": {
      "text/html": [
       "<div>\n",
       "<style scoped>\n",
       "    .dataframe tbody tr th:only-of-type {\n",
       "        vertical-align: middle;\n",
       "    }\n",
       "\n",
       "    .dataframe tbody tr th {\n",
       "        vertical-align: top;\n",
       "    }\n",
       "\n",
       "    .dataframe thead th {\n",
       "        text-align: right;\n",
       "    }\n",
       "</style>\n",
       "<table border=\"1\" class=\"dataframe\">\n",
       "  <thead>\n",
       "    <tr style=\"text-align: right;\">\n",
       "      <th></th>\n",
       "      <th>importance</th>\n",
       "    </tr>\n",
       "  </thead>\n",
       "  <tbody>\n",
       "    <tr>\n",
       "      <th>province</th>\n",
       "      <td>0.385099</td>\n",
       "    </tr>\n",
       "    <tr>\n",
       "      <th>housing_type</th>\n",
       "      <td>0.009634</td>\n",
       "    </tr>\n",
       "    <tr>\n",
       "      <th>age</th>\n",
       "      <td>0.098670</td>\n",
       "    </tr>\n",
       "    <tr>\n",
       "      <th>floor</th>\n",
       "      <td>0.091872</td>\n",
       "    </tr>\n",
       "    <tr>\n",
       "      <th>m_2</th>\n",
       "      <td>0.270593</td>\n",
       "    </tr>\n",
       "    <tr>\n",
       "      <th>room_number</th>\n",
       "      <td>0.144132</td>\n",
       "    </tr>\n",
       "  </tbody>\n",
       "</table>\n",
       "</div>"
      ],
      "text/plain": [
       "              importance\n",
       "province        0.385099\n",
       "housing_type    0.009634\n",
       "age             0.098670\n",
       "floor           0.091872\n",
       "m_2             0.270593\n",
       "room_number     0.144132"
      ]
     },
     "execution_count": 129,
     "metadata": {},
     "output_type": "execute_result"
    }
   ],
   "source": [
    "importance=pd.DataFrame({\"importance\":model_xgb.feature_importances_},index= X_train.columns)\n",
    "importance"
   ]
  },
  {
   "cell_type": "code",
   "execution_count": 130,
   "id": "042249a4",
   "metadata": {},
   "outputs": [
    {
     "data": {
      "text/plain": [
       "<matplotlib.legend.Legend at 0x27fc62dfc10>"
      ]
     },
     "execution_count": 130,
     "metadata": {},
     "output_type": "execute_result"
    },
    {
     "data": {
      "image/png": "[encoded data removed]",
      "text/plain": [
       "<Figure size 432x288 with 1 Axes>"
      ]
     },
     "metadata": {},
     "output_type": "display_data"
    }
   ],
   "source": [
    "plt.pie(importance[\"importance\"], labels=X_train.columns,autopct='%1.1f%%',shadow=True, startangle=90)\n",
    "plt.legend(X_train.columns , loc=5)\n"
   ]
  },
  {
   "cell_type": "code",
   "execution_count": 131,
   "id": "5c39f4ca",
   "metadata": {
    "scrolled": true
   },
   "outputs": [
    {
     "data": {
      "image/png": "[encoded data removed]",
      "text/plain": [
       "<Figure size 720x504 with 1 Axes>"
      ]
     },
     "metadata": {
      "needs_background": "light"
     },
     "output_type": "display_data"
    }
   ],
   "source": [
    "df_temp = df_temp.head(50)\n",
    "df_temp.plot(kind='bar',figsize=(10,7))\n",
    "plt.grid(which='major', linestyle='-', linewidth='0.5', color='green')\n",
    "plt.grid(which='minor', linestyle=':', linewidth='0.5', color='black')\n",
    "plt.show()"
   ]
  },
  {
   "cell_type": "code",
   "execution_count": 132,
   "id": "4edcd1bb",
   "metadata": {},
   "outputs": [
    {
     "name": "stdout",
     "output_type": "stream",
     "text": [
      "5887047\n"
     ]
    }
   ],
   "source": [
    "df2 = pd.DataFrame({\"province\": [0],\n",
    "                    \"housing_type\": [0],\n",
    "                    \"age\": [5],\n",
    "                    \"floor\": [2],\n",
    "                    \"m_2\": [140],\n",
    "                    \"room_number\": [30]})\n",
    "\n",
    "pred = model_xgb.predict(df2)\n",
    "pred = int(pred)\n",
    "print(pred)"
   ]
  },
  {
   "cell_type": "markdown",
   "id": "cf1b537e",
   "metadata": {},
   "source": [
    "# SVR "
   ]
  },
  {
   "cell_type": "code",
   "execution_count": 133,
   "id": "aef10da6",
   "metadata": {},
   "outputs": [],
   "source": [
    "sc=StandardScaler()\n",
    "\n",
    "scaler = sc.fit(X_train)\n",
    "X_train = scaler.transform(X_train)\n",
    "X_test = scaler.transform(X_test)"
   ]
  },
  {
   "cell_type": "code",
   "execution_count": 134,
   "id": "852c6ec1",
   "metadata": {},
   "outputs": [],
   "source": [
    "from sklearn.svm import SVR\n",
    "regressor = SVR(kernel = 'rbf',degree=3)\n",
    "regressor.fit(X_train, y_train)\n",
    "y_pred = regressor.predict(X_test)"
   ]
  },
  {
   "cell_type": "code",
   "execution_count": 135,
   "id": "5e24a210",
   "metadata": {},
   "outputs": [
    {
     "name": "stdout",
     "output_type": "stream",
     "text": [
      "-0.11962129972925206\n",
      "-0.11233164113806304\n"
     ]
    }
   ],
   "source": [
    "print(regressor.score(X_test,y_test))\n",
    "print(regressor.score(X_train,y_train))"
   ]
  },
  {
   "cell_type": "code",
   "execution_count": 136,
   "id": "c5d53245",
   "metadata": {},
   "outputs": [
    {
     "name": "stdout",
     "output_type": "stream",
     "text": [
      "R²: -0.11962129972925206\n",
      "Adjusted R²: -0.11987965400193779\n"
     ]
    }
   ],
   "source": [
    "R2=r2_score(y_test,y_pred)\n",
    "print(\"R²:\", R2)\n",
    "\n",
    "adj_r2 = 1-(1-R2)*(26009 -1)/(26009 -6-1)\n",
    "print(\"Adjusted R²:\", adj_r2)"
   ]
  },
  {
   "cell_type": "code",
   "execution_count": 137,
   "id": "ffb25396",
   "metadata": {},
   "outputs": [
    {
     "name": "stdout",
     "output_type": "stream",
     "text": [
      "Mean Absolute Error: 2138142.1845727297\n",
      "Mean Squared Error: 9270066700190.088\n",
      "Root Mean Squared Error: 3044678.423116321\n"
     ]
    }
   ],
   "source": [
    "y_pred = regressor.predict(X_test)\n",
    "print('Mean Absolute Error:', mean_absolute_error(y_test, y_pred))  \n",
    "print('Mean Squared Error:', mean_squared_error(y_test, y_pred))  \n",
    "print('Root Mean Squared Error:', np.sqrt(mean_squared_error(y_test, y_pred)))"
   ]
  },
  {
   "cell_type": "code",
   "execution_count": 138,
   "id": "5acdd833",
   "metadata": {},
   "outputs": [
    {
     "data": {
      "text/plain": [
       "array([3349585.14190053, 3350088.77786882, 3351463.01602452,\n",
       "       3349413.00843971, 3351690.72232199, 3351936.14557013,\n",
       "       3351131.99118209, 3351285.54722414, 3349626.21784955,\n",
       "       3349590.88869487])"
      ]
     },
     "execution_count": 138,
     "metadata": {},
     "output_type": "execute_result"
    }
   ],
   "source": [
    "regressor.predict(X_test)[20:30]"
   ]
  },
  {
   "cell_type": "code",
   "execution_count": 139,
   "id": "9b371960",
   "metadata": {},
   "outputs": [
    {
     "data": {
      "text/plain": [
       "20168    2850000.0\n",
       "21986    1525000.0\n",
       "3840     9250000.0\n",
       "20080    2500000.0\n",
       "5547     3000000.0\n",
       "17718    6750000.0\n",
       "20206    3950000.0\n",
       "8457     1449000.0\n",
       "6278     2250000.0\n",
       "20010    3195000.0\n",
       "Name: price, dtype: float64"
      ]
     },
     "execution_count": 139,
     "metadata": {},
     "output_type": "execute_result"
    }
   ],
   "source": [
    "y_test[20:30]"
   ]
  },
  {
   "cell_type": "code",
   "execution_count": 140,
   "id": "3659a3a9",
   "metadata": {},
   "outputs": [
    {
     "data": {
      "text/html": [
       "<div>\n",
       "<style scoped>\n",
       "    .dataframe tbody tr th:only-of-type {\n",
       "        vertical-align: middle;\n",
       "    }\n",
       "\n",
       "    .dataframe tbody tr th {\n",
       "        vertical-align: top;\n",
       "    }\n",
       "\n",
       "    .dataframe thead th {\n",
       "        text-align: right;\n",
       "    }\n",
       "</style>\n",
       "<table border=\"1\" class=\"dataframe\">\n",
       "  <thead>\n",
       "    <tr style=\"text-align: right;\">\n",
       "      <th></th>\n",
       "      <th>Actual</th>\n",
       "      <th>Predicted</th>\n",
       "    </tr>\n",
       "  </thead>\n",
       "  <tbody>\n",
       "    <tr>\n",
       "      <th>17151</th>\n",
       "      <td>1550000.0</td>\n",
       "      <td>3.351849e+06</td>\n",
       "    </tr>\n",
       "    <tr>\n",
       "      <th>16991</th>\n",
       "      <td>3050000.0</td>\n",
       "      <td>3.349991e+06</td>\n",
       "    </tr>\n",
       "    <tr>\n",
       "      <th>19582</th>\n",
       "      <td>2000000.0</td>\n",
       "      <td>3.350864e+06</td>\n",
       "    </tr>\n",
       "    <tr>\n",
       "      <th>16646</th>\n",
       "      <td>3190000.0</td>\n",
       "      <td>3.351158e+06</td>\n",
       "    </tr>\n",
       "    <tr>\n",
       "      <th>4098</th>\n",
       "      <td>10250000.0</td>\n",
       "      <td>3.352184e+06</td>\n",
       "    </tr>\n",
       "    <tr>\n",
       "      <th>15274</th>\n",
       "      <td>11700000.0</td>\n",
       "      <td>3.352248e+06</td>\n",
       "    </tr>\n",
       "    <tr>\n",
       "      <th>9138</th>\n",
       "      <td>1900000.0</td>\n",
       "      <td>3.350626e+06</td>\n",
       "    </tr>\n",
       "  </tbody>\n",
       "</table>\n",
       "</div>"
      ],
      "text/plain": [
       "           Actual     Predicted\n",
       "17151   1550000.0  3.351849e+06\n",
       "16991   3050000.0  3.349991e+06\n",
       "19582   2000000.0  3.350864e+06\n",
       "16646   3190000.0  3.351158e+06\n",
       "4098   10250000.0  3.352184e+06\n",
       "15274  11700000.0  3.352248e+06\n",
       "9138    1900000.0  3.350626e+06"
      ]
     },
     "execution_count": 140,
     "metadata": {},
     "output_type": "execute_result"
    }
   ],
   "source": [
    "df_temp=pd.DataFrame({'Actual': y_test, 'Predicted': y_pred})\n",
    "df_temp.head(7)"
   ]
  },
  {
   "cell_type": "code",
   "execution_count": 141,
   "id": "fcc3ac0f",
   "metadata": {},
   "outputs": [
    {
     "data": {
      "image/png": "[encoded data removed]",
      "text/plain": [
       "<Figure size 720x432 with 1 Axes>"
      ]
     },
     "metadata": {
      "needs_background": "light"
     },
     "output_type": "display_data"
    }
   ],
   "source": [
    "df_temp = df_temp.head(50)\n",
    "df_temp.plot(kind='bar',figsize=(10,6))\n",
    "plt.grid(which='major', linestyle='-', linewidth='0.5', color='green')\n",
    "plt.grid(which='minor', linestyle=':', linewidth='0.5', color='black')\n",
    "plt.show()"
   ]
  },
  {
   "cell_type": "markdown",
   "id": "f1824f18",
   "metadata": {},
   "source": [
    "# Linear Regression"
   ]
  },
  {
   "cell_type": "code",
   "execution_count": 142,
   "id": "f40e2beb",
   "metadata": {},
   "outputs": [],
   "source": [
    "from sklearn.linear_model import LinearRegression\n",
    "lregressor = LinearRegression()\n",
    "lregressor.fit(X_train, y_train)\n",
    "y_predl = lregressor.predict(X_test)"
   ]
  },
  {
   "cell_type": "code",
   "execution_count": 143,
   "id": "baf04f78",
   "metadata": {},
   "outputs": [
    {
     "name": "stdout",
     "output_type": "stream",
     "text": [
      "0.2563391910173972\n",
      "0.25733791493198843\n"
     ]
    }
   ],
   "source": [
    "print(lregressor.score(X_test,y_test))\n",
    "print(lregressor.score(X_train,y_train))"
   ]
  },
  {
   "cell_type": "code",
   "execution_count": 144,
   "id": "baa00f72",
   "metadata": {},
   "outputs": [
    {
     "name": "stdout",
     "output_type": "stream",
     "text": [
      "Mean Absolute Error: 1889684.404042415\n",
      "Mean Squared Error: 6157247368599.643\n",
      "Root Mean Squared Error: 2481380.133836741\n"
     ]
    }
   ],
   "source": [
    "y_predl = lregressor.predict(X_test)\n",
    "print('Mean Absolute Error:', mean_absolute_error(y_test, y_predl))  \n",
    "print('Mean Squared Error:', mean_squared_error(y_test, y_predl))  \n",
    "print('Root Mean Squared Error:', np.sqrt(mean_squared_error(y_test, y_predl)))"
   ]
  },
  {
   "cell_type": "code",
   "execution_count": 145,
   "id": "49cb3aa9",
   "metadata": {},
   "outputs": [
    {
     "name": "stdout",
     "output_type": "stream",
     "text": [
      "R²: 0.2563391910173972\n",
      "Adjusted R²: 0.2561675901846192\n"
     ]
    }
   ],
   "source": [
    "R2=r2_score(y_test,y_predl)\n",
    "print(\"R²:\", R2)\n",
    "\n",
    "adj_r2 = 1-(1-R2)*(26009 -1)/(26009 -6-1)\n",
    "print(\"Adjusted R²:\", adj_r2)"
   ]
  },
  {
   "cell_type": "code",
   "execution_count": 146,
   "id": "ab5137b9",
   "metadata": {},
   "outputs": [
    {
     "data": {
      "text/plain": [
       "array([2819881.61880717, 3473674.02546084, 5121101.66867132,\n",
       "       2698799.74482685, 5490984.56897634, 8094383.7069188 ,\n",
       "       4473772.3423815 , 5566464.85070921, 2651396.66465702,\n",
       "       2990873.74641036])"
      ]
     },
     "execution_count": 146,
     "metadata": {},
     "output_type": "execute_result"
    }
   ],
   "source": [
    "lregressor.predict(X_test)[20:30]"
   ]
  },
  {
   "cell_type": "code",
   "execution_count": 147,
   "id": "f65bfda6",
   "metadata": {},
   "outputs": [
    {
     "data": {
      "text/plain": [
       "20168    2850000.0\n",
       "21986    1525000.0\n",
       "3840     9250000.0\n",
       "20080    2500000.0\n",
       "5547     3000000.0\n",
       "17718    6750000.0\n",
       "20206    3950000.0\n",
       "8457     1449000.0\n",
       "6278     2250000.0\n",
       "20010    3195000.0\n",
       "Name: price, dtype: float64"
      ]
     },
     "execution_count": 147,
     "metadata": {},
     "output_type": "execute_result"
    }
   ],
   "source": [
    "y_test[20:30]"
   ]
  },
  {
   "cell_type": "code",
   "execution_count": 148,
   "id": "0d97aeb7",
   "metadata": {},
   "outputs": [
    {
     "data": {
      "text/html": [
       "<div>\n",
       "<style scoped>\n",
       "    .dataframe tbody tr th:only-of-type {\n",
       "        vertical-align: middle;\n",
       "    }\n",
       "\n",
       "    .dataframe tbody tr th {\n",
       "        vertical-align: top;\n",
       "    }\n",
       "\n",
       "    .dataframe thead th {\n",
       "        text-align: right;\n",
       "    }\n",
       "</style>\n",
       "<table border=\"1\" class=\"dataframe\">\n",
       "  <thead>\n",
       "    <tr style=\"text-align: right;\">\n",
       "      <th></th>\n",
       "      <th>Actual</th>\n",
       "      <th>Predicted</th>\n",
       "    </tr>\n",
       "  </thead>\n",
       "  <tbody>\n",
       "    <tr>\n",
       "      <th>17151</th>\n",
       "      <td>1550000.0</td>\n",
       "      <td>5.660527e+06</td>\n",
       "    </tr>\n",
       "    <tr>\n",
       "      <th>16991</th>\n",
       "      <td>3050000.0</td>\n",
       "      <td>3.516457e+06</td>\n",
       "    </tr>\n",
       "    <tr>\n",
       "      <th>19582</th>\n",
       "      <td>2000000.0</td>\n",
       "      <td>4.004240e+06</td>\n",
       "    </tr>\n",
       "    <tr>\n",
       "      <th>16646</th>\n",
       "      <td>3190000.0</td>\n",
       "      <td>2.260590e+06</td>\n",
       "    </tr>\n",
       "    <tr>\n",
       "      <th>4098</th>\n",
       "      <td>10250000.0</td>\n",
       "      <td>6.850613e+06</td>\n",
       "    </tr>\n",
       "    <tr>\n",
       "      <th>15274</th>\n",
       "      <td>11700000.0</td>\n",
       "      <td>5.676223e+06</td>\n",
       "    </tr>\n",
       "    <tr>\n",
       "      <th>9138</th>\n",
       "      <td>1900000.0</td>\n",
       "      <td>3.815610e+06</td>\n",
       "    </tr>\n",
       "  </tbody>\n",
       "</table>\n",
       "</div>"
      ],
      "text/plain": [
       "           Actual     Predicted\n",
       "17151   1550000.0  5.660527e+06\n",
       "16991   3050000.0  3.516457e+06\n",
       "19582   2000000.0  4.004240e+06\n",
       "16646   3190000.0  2.260590e+06\n",
       "4098   10250000.0  6.850613e+06\n",
       "15274  11700000.0  5.676223e+06\n",
       "9138    1900000.0  3.815610e+06"
      ]
     },
     "execution_count": 148,
     "metadata": {},
     "output_type": "execute_result"
    }
   ],
   "source": [
    "df_temp=pd.DataFrame({'Actual': y_test, 'Predicted': y_predl})\n",
    "df_temp.head(7)"
   ]
  },
  {
   "cell_type": "code",
   "execution_count": 149,
   "id": "36e1a373",
   "metadata": {},
   "outputs": [
    {
     "data": {
      "image/png": "[encoded data removed]",
      "text/plain": [
       "<Figure size 720x432 with 1 Axes>"
      ]
     },
     "metadata": {
      "needs_background": "light"
     },
     "output_type": "display_data"
    }
   ],
   "source": [
    "df_temp = df_temp.head(50)\n",
    "df_temp.plot(kind='bar',figsize=(10,6))\n",
    "plt.grid(which='major', linestyle='-', linewidth='0.5', color='green')\n",
    "plt.grid(which='minor', linestyle=':', linewidth='0.5', color='black')\n",
    "plt.show()"
   ]
  },
  {
   "cell_type": "markdown",
   "id": "635c30f5",
   "metadata": {},
   "source": [
    "# MLPRegressor "
   ]
  },
  {
   "cell_type": "code",
   "execution_count": 208,
   "id": "d570e880",
   "metadata": {},
   "outputs": [],
   "source": [
    "from sklearn.neural_network import MLPRegressor\n",
    "from sklearn.preprocessing import MinMaxScaler"
   ]
  },
  {
   "cell_type": "code",
   "execution_count": 209,
   "id": "7c23fe2c",
   "metadata": {},
   "outputs": [
    {
     "data": {
      "text/plain": [
       "MLPRegressor(hidden_layer_sizes=(150, 100, 50), learning_rate='adaptive',\n",
       "             learning_rate_init=0.05, max_iter=1000)"
      ]
     },
     "execution_count": 209,
     "metadata": {},
     "output_type": "execute_result"
    }
   ],
   "source": [
    "mlp_reg = MLPRegressor(hidden_layer_sizes=(150,100,50),\n",
    "                       max_iter = 1000,activation = 'relu',\n",
    "                       solver = 'adam',learning_rate=\"adaptive\",learning_rate_init=0.05,)\n",
    "\n",
    "mlp_reg.fit(X_train, y_train)"
   ]
  },
  {
   "cell_type": "code",
   "execution_count": 210,
   "id": "bb80a265",
   "metadata": {},
   "outputs": [],
   "source": [
    "mlp_prediction=mlp_reg.predict(X_test)"
   ]
  },
  {
   "cell_type": "code",
   "execution_count": 211,
   "id": "d6fc4605",
   "metadata": {},
   "outputs": [
    {
     "name": "stdout",
     "output_type": "stream",
     "text": [
      "0.6962841618527499\n",
      "0.7939267913692066\n"
     ]
    }
   ],
   "source": [
    "print(mlp_reg.score(X_test,y_test))\n",
    "print(mlp_reg.score(X_train,y_train))"
   ]
  },
  {
   "cell_type": "code",
   "execution_count": 212,
   "id": "cc4e3184",
   "metadata": {},
   "outputs": [
    {
     "name": "stdout",
     "output_type": "stream",
     "text": [
      "Mean Absolute Error: 1061753.4232063117\n",
      "Mean Squared Error: 2514659267566.618\n",
      "Root Mean Squared Error: 1585767.721820134\n"
     ]
    }
   ],
   "source": [
    "print('Mean Absolute Error:', mean_absolute_error(y_test, mlp_prediction))  \n",
    "print('Mean Squared Error:', mean_squared_error(y_test, mlp_prediction))  \n",
    "print('Root Mean Squared Error:', np.sqrt(mean_squared_error(y_test, mlp_prediction)))"
   ]
  },
  {
   "cell_type": "code",
   "execution_count": 213,
   "id": "ebd9b23b",
   "metadata": {},
   "outputs": [
    {
     "name": "stdout",
     "output_type": "stream",
     "text": [
      "R²: 0.6962841618527499\n",
      "Adjusted R²: 0.6962140789733989\n"
     ]
    }
   ],
   "source": [
    "R2=r2_score(y_test,mlp_prediction)\n",
    "print(\"R²:\", R2)\n",
    "\n",
    "adj_r2 = 1-(1-R2)*(26009 -1)/(26009 -6-1)\n",
    "print(\"Adjusted R²:\", adj_r2)"
   ]
  },
  {
   "cell_type": "code",
   "execution_count": 214,
   "id": "9a593f0d",
   "metadata": {},
   "outputs": [
    {
     "data": {
      "text/html": [
       "<div>\n",
       "<style scoped>\n",
       "    .dataframe tbody tr th:only-of-type {\n",
       "        vertical-align: middle;\n",
       "    }\n",
       "\n",
       "    .dataframe tbody tr th {\n",
       "        vertical-align: top;\n",
       "    }\n",
       "\n",
       "    .dataframe thead th {\n",
       "        text-align: right;\n",
       "    }\n",
       "</style>\n",
       "<table border=\"1\" class=\"dataframe\">\n",
       "  <thead>\n",
       "    <tr style=\"text-align: right;\">\n",
       "      <th></th>\n",
       "      <th>Actual</th>\n",
       "      <th>Predicted</th>\n",
       "    </tr>\n",
       "  </thead>\n",
       "  <tbody>\n",
       "    <tr>\n",
       "      <th>17151</th>\n",
       "      <td>1550000.0</td>\n",
       "      <td>4.331224e+06</td>\n",
       "    </tr>\n",
       "    <tr>\n",
       "      <th>16991</th>\n",
       "      <td>3050000.0</td>\n",
       "      <td>3.009468e+06</td>\n",
       "    </tr>\n",
       "    <tr>\n",
       "      <th>19582</th>\n",
       "      <td>2000000.0</td>\n",
       "      <td>4.260478e+06</td>\n",
       "    </tr>\n",
       "    <tr>\n",
       "      <th>16646</th>\n",
       "      <td>3190000.0</td>\n",
       "      <td>3.579626e+06</td>\n",
       "    </tr>\n",
       "    <tr>\n",
       "      <th>4098</th>\n",
       "      <td>10250000.0</td>\n",
       "      <td>1.180630e+07</td>\n",
       "    </tr>\n",
       "    <tr>\n",
       "      <th>15274</th>\n",
       "      <td>11700000.0</td>\n",
       "      <td>1.190226e+07</td>\n",
       "    </tr>\n",
       "    <tr>\n",
       "      <th>9138</th>\n",
       "      <td>1900000.0</td>\n",
       "      <td>2.113193e+06</td>\n",
       "    </tr>\n",
       "  </tbody>\n",
       "</table>\n",
       "</div>"
      ],
      "text/plain": [
       "           Actual     Predicted\n",
       "17151   1550000.0  4.331224e+06\n",
       "16991   3050000.0  3.009468e+06\n",
       "19582   2000000.0  4.260478e+06\n",
       "16646   3190000.0  3.579626e+06\n",
       "4098   10250000.0  1.180630e+07\n",
       "15274  11700000.0  1.190226e+07\n",
       "9138    1900000.0  2.113193e+06"
      ]
     },
     "execution_count": 214,
     "metadata": {},
     "output_type": "execute_result"
    }
   ],
   "source": [
    "df_temp=pd.DataFrame({'Actual': y_test, 'Predicted': mlp_prediction})\n",
    "df_temp.head(7)"
   ]
  },
  {
   "cell_type": "code",
   "execution_count": 215,
   "id": "36454b5b",
   "metadata": {},
   "outputs": [
    {
     "data": {
      "image/png": "[encoded data removed]",
      "text/plain": [
       "<Figure size 720x432 with 1 Axes>"
      ]
     },
     "metadata": {
      "needs_background": "light"
     },
     "output_type": "display_data"
    }
   ],
   "source": [
    "df_temp = df_temp.head(50)\n",
    "df_temp.plot(kind='bar',figsize=(10,6))\n",
    "plt.grid(which='major', linestyle='-', linewidth='0.5', color='green')\n",
    "plt.grid(which='minor', linestyle=':', linewidth='0.5', color='black')\n",
    "plt.show()"
   ]
  },
  {
   "cell_type": "markdown",
   "id": "9209a909",
   "metadata": {},
   "source": [
    "# COMPARISON OF MODELS"
   ]
  },
  {
   "cell_type": "code",
   "execution_count": 216,
   "id": "56e0b0f7",
   "metadata": {},
   "outputs": [
    {
     "data": {
      "text/html": [
       "<div>\n",
       "<style scoped>\n",
       "    .dataframe tbody tr th:only-of-type {\n",
       "        vertical-align: middle;\n",
       "    }\n",
       "\n",
       "    .dataframe tbody tr th {\n",
       "        vertical-align: top;\n",
       "    }\n",
       "\n",
       "    .dataframe thead th {\n",
       "        text-align: right;\n",
       "    }\n",
       "</style>\n",
       "<table border=\"1\" class=\"dataframe\">\n",
       "  <thead>\n",
       "    <tr style=\"text-align: right;\">\n",
       "      <th></th>\n",
       "      <th>Actual</th>\n",
       "      <th>Linear Regression Predicted</th>\n",
       "      <th>SVR Predicted</th>\n",
       "      <th>XGBOOST Predicted</th>\n",
       "      <th>MLPRegressor Predicted</th>\n",
       "    </tr>\n",
       "  </thead>\n",
       "  <tbody>\n",
       "    <tr>\n",
       "      <th>17151</th>\n",
       "      <td>1550000.0</td>\n",
       "      <td>5.660527e+06</td>\n",
       "      <td>3.351849e+06</td>\n",
       "      <td>4.251076e+06</td>\n",
       "      <td>4.331224e+06</td>\n",
       "    </tr>\n",
       "    <tr>\n",
       "      <th>16991</th>\n",
       "      <td>3050000.0</td>\n",
       "      <td>3.516457e+06</td>\n",
       "      <td>3.349991e+06</td>\n",
       "      <td>3.206553e+06</td>\n",
       "      <td>3.009468e+06</td>\n",
       "    </tr>\n",
       "    <tr>\n",
       "      <th>19582</th>\n",
       "      <td>2000000.0</td>\n",
       "      <td>4.004240e+06</td>\n",
       "      <td>3.350864e+06</td>\n",
       "      <td>4.859064e+06</td>\n",
       "      <td>4.260478e+06</td>\n",
       "    </tr>\n",
       "    <tr>\n",
       "      <th>16646</th>\n",
       "      <td>3190000.0</td>\n",
       "      <td>2.260590e+06</td>\n",
       "      <td>3.351158e+06</td>\n",
       "      <td>3.080573e+06</td>\n",
       "      <td>3.579626e+06</td>\n",
       "    </tr>\n",
       "    <tr>\n",
       "      <th>4098</th>\n",
       "      <td>10250000.0</td>\n",
       "      <td>6.850613e+06</td>\n",
       "      <td>3.352184e+06</td>\n",
       "      <td>1.175182e+07</td>\n",
       "      <td>1.180630e+07</td>\n",
       "    </tr>\n",
       "    <tr>\n",
       "      <th>15274</th>\n",
       "      <td>11700000.0</td>\n",
       "      <td>5.676223e+06</td>\n",
       "      <td>3.352248e+06</td>\n",
       "      <td>1.192807e+07</td>\n",
       "      <td>1.190226e+07</td>\n",
       "    </tr>\n",
       "    <tr>\n",
       "      <th>9138</th>\n",
       "      <td>1900000.0</td>\n",
       "      <td>3.815610e+06</td>\n",
       "      <td>3.350626e+06</td>\n",
       "      <td>1.654348e+06</td>\n",
       "      <td>2.113193e+06</td>\n",
       "    </tr>\n",
       "  </tbody>\n",
       "</table>\n",
       "</div>"
      ],
      "text/plain": [
       "           Actual  Linear Regression Predicted  SVR Predicted  \\\n",
       "17151   1550000.0                 5.660527e+06   3.351849e+06   \n",
       "16991   3050000.0                 3.516457e+06   3.349991e+06   \n",
       "19582   2000000.0                 4.004240e+06   3.350864e+06   \n",
       "16646   3190000.0                 2.260590e+06   3.351158e+06   \n",
       "4098   10250000.0                 6.850613e+06   3.352184e+06   \n",
       "15274  11700000.0                 5.676223e+06   3.352248e+06   \n",
       "9138    1900000.0                 3.815610e+06   3.350626e+06   \n",
       "\n",
       "       XGBOOST Predicted  MLPRegressor Predicted  \n",
       "17151       4.251076e+06            4.331224e+06  \n",
       "16991       3.206553e+06            3.009468e+06  \n",
       "19582       4.859064e+06            4.260478e+06  \n",
       "16646       3.080573e+06            3.579626e+06  \n",
       "4098        1.175182e+07            1.180630e+07  \n",
       "15274       1.192807e+07            1.190226e+07  \n",
       "9138        1.654348e+06            2.113193e+06  "
      ]
     },
     "execution_count": 216,
     "metadata": {},
     "output_type": "execute_result"
    }
   ],
   "source": [
    "df_temp=pd.DataFrame({'Actual': y_test,'Linear Regression Predicted': y_predl,'SVR Predicted': y_pred,'XGBOOST Predicted': predictionxgb,\n",
    "                      'MLPRegressor Predicted': mlp_prediction})\n",
    "df_temp.head(7)"
   ]
  },
  {
   "cell_type": "code",
   "execution_count": 222,
   "id": "32e7b917",
   "metadata": {},
   "outputs": [
    {
     "data": {
      "image/png": "[encoded data removed]",
      "text/plain": [
       "<Figure size 1440x864 with 1 Axes>"
      ]
     },
     "metadata": {
      "needs_background": "light"
     },
     "output_type": "display_data"
    }
   ],
   "source": [
    "df_temp = df_temp.head(20)\n",
    "df_temp.plot(kind='bar',figsize=(20,12))\n",
    "plt.grid(which='major', linestyle='-', linewidth='0.7', color='green')\n",
    "plt.grid(which='minor', linestyle=':', linewidth='0.5', color='black')\n",
    "plt.show()"
   ]
  }
 ],
 "metadata": {
  "kernelspec": {
   "display_name": "Python 3 (ipykernel)",
   "language": "python",
   "name": "python3"
  },
  "language_info": {
   "codemirror_mode": {
    "name": "ipython",
    "version": 3
   },
   "file_extension": ".py",
   "mimetype": "text/x-python",
   "name": "python",
   "nbconvert_exporter": "python",
   "pygments_lexer": "ipython3",
   "version": "3.9.12"
  }
 },
 "nbformat": 4,
 "nbformat_minor": 5
}
